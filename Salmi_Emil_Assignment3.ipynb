{
 "cells": [
  {
   "cell_type": "code",
   "execution_count": 2,
   "metadata": {},
   "outputs": [],
   "source": [
    "# Extract correct dataset\n",
    "from zipfile import ZipFile\n",
    "\n",
    "abst = ZipFile('abstracts.zip')\n",
    "\n",
    "for file in abst.namelist():\n",
    "    if file.startswith('abstracts/awards_2002/'):\n",
    "        abst.extract(file)\n"
   ]
  },
  {
   "cell_type": "code",
   "execution_count": 2,
   "metadata": {},
   "outputs": [],
   "source": [
    "# Extracts abstracts from documents\n",
    "import os\n",
    "\n",
    "rootdir = 'abstracts/awards_2002'\n",
    "documents = []\n",
    "\n",
    "for sdir, dirs, files in os.walk(rootdir):\n",
    "    for file in files:\n",
    "        with open(os.path.join(sdir,file), \"rt\", encoding=\"unicode_escape\") as f:\n",
    "            documents.append([line.strip() for line in f.readlines()])\n",
    "            \n",
    "abstracts = []\n",
    "for d in documents:\n",
    "    s = \"\"\n",
    "    for i, t in enumerate(d):\n",
    "        if \"Abstract\" in t:\n",
    "            for t in d[i+1:]:\n",
    "                s += f\" {t}\"\n",
    "                \n",
    "    abstracts.append(s)\n"
   ]
  },
  {
   "cell_type": "code",
   "execution_count": 3,
   "metadata": {},
   "outputs": [
    {
     "data": {
      "text/plain": [
       "(9923, 27299)"
      ]
     },
     "execution_count": 3,
     "metadata": {},
     "output_type": "execute_result"
    }
   ],
   "source": [
    "from sklearn.feature_extraction.text import TfidfVectorizer\n",
    "\n",
    "# Set parameters and initialize\n",
    "tfidf_vectorizer = TfidfVectorizer(min_df=2, use_idf=True, sublinear_tf=True, max_df=0.8, max_features=50000)\n",
    "\n",
    "# Calcualate term-document matrix with tf-idf scores\n",
    "tfidf_matrix = tfidf_vectorizer.fit_transform(abstracts)\n",
    "\n",
    "# Check matrix shape\n",
    "tfidf_matrix.toarray().shape # N_docs x N_terms\n"
   ]
  },
  {
   "cell_type": "code",
   "execution_count": 4,
   "metadata": {},
   "outputs": [
    {
     "name": "stdout",
     "output_type": "stream",
     "text": [
      "['00', '000', '0000', '0001', '000l', '001', '002', '003', '0085834', '01']\n",
      "['zorin', 'zr', 'zro2', 'zuni', 'zurich', 'zworski', 'zygmund', 'zygomycetes', 'zygomycota', 'zygotic']\n"
     ]
    }
   ],
   "source": [
    "print(tfidf_vectorizer.get_feature_names()[:10])\n",
    "print(tfidf_vectorizer.get_feature_names()[-10:])\n"
   ]
  },
  {
   "cell_type": "code",
   "execution_count": 5,
   "metadata": {},
   "outputs": [
    {
     "data": {
      "text/plain": [
       "array([[0.],\n",
       "       [0.],\n",
       "       [0.],\n",
       "       ...,\n",
       "       [0.],\n",
       "       [0.],\n",
       "       [0.]])"
      ]
     },
     "execution_count": 5,
     "metadata": {},
     "output_type": "execute_result"
    }
   ],
   "source": [
    "tfidf_matrix[:,tfidf_vectorizer.get_feature_names().index('record')].toarray() # Get doc vector for term\n"
   ]
  },
  {
   "cell_type": "code",
   "execution_count": 6,
   "metadata": {},
   "outputs": [
    {
     "name": "stdout",
     "output_type": "stream",
     "text": [
      "7632\tbe\n",
      "7419\ton\n",
      "7271\twith\n",
      "7167\tthat\n",
      "6656\tare\n",
      "6642\tresearch\n",
      "6561\tby\n",
      "6424\tas\n",
      "5968\tfrom\n",
      "5750\tan\n",
      "5402\tthese\n",
      "5401\tproject\n",
      "5365\tat\n",
      "4294\thave\n",
      "4108\twhich\n",
      "3958\tnew\n",
      "3739\tor\n",
      "3727\tit\n",
      "3669\ttheir\n",
      "3617\thas\n"
     ]
    }
   ],
   "source": [
    "from collections import Counter\n",
    "terms_in_docs = tfidf_vectorizer.inverse_transform(tfidf_matrix)\n",
    "token_counter = Counter()\n",
    "for terms in terms_in_docs:\n",
    "    token_counter.update(terms)\n",
    "\n",
    "for term, count in token_counter.most_common(20):\n",
    "    print(\"%d\\t%s\" % (count, term))\n"
   ]
  },
  {
   "cell_type": "code",
   "execution_count": 7,
   "metadata": {},
   "outputs": [
    {
     "name": "stdout",
     "output_type": "stream",
     "text": [
      "\n",
      "Document 0, top terms by TF-IDF\n",
      "0.29\tchow\n",
      "0.19\thodge\n",
      "0.19\talgebraic\n",
      "0.14\tgeometry\n",
      "0.14\tsubgroup\n",
      "\n",
      "Document 1, top terms by TF-IDF\n",
      "0.24\tfriendships\n",
      "0.22\tcultivating\n",
      "0.21\tethnically\n",
      "0.20\tcontrol\n",
      "0.20\texchanging\n",
      "\n",
      "Document 2, top terms by TF-IDF\n",
      "0.24\tupdating\n",
      "0.17\treference\n",
      "0.17\tsecondly\n",
      "0.15\tdamped\n",
      "0.14\tvibrating\n",
      "\n",
      "Document 3, top terms by TF-IDF\n",
      "0.24\tconference\n",
      "0.20\tcomputations\n",
      "0.20\tlearn\n",
      "0.18\ttheory\n",
      "0.18\tgroup\n",
      "\n",
      "Document 4, top terms by TF-IDF\n",
      "0.21\tuncontrollable\n",
      "0.20\tcommonality\n",
      "0.19\tuncertainties\n",
      "0.18\tpreferences\n",
      "0.18\talternative\n"
     ]
    }
   ],
   "source": [
    "features = tfidf_vectorizer.get_feature_names()\n",
    "for doc_i in range(5):\n",
    "    print(\"\\nDocument %d, top terms by TF-IDF\" % doc_i)\n",
    "    for term, score in sorted(list(zip(features,tfidf_matrix.toarray()[doc_i])), key=lambda x:-x[1])[:5]:\n",
    "        print(\"%.2f\\t%s\" % (score, term))\n"
   ]
  },
  {
   "cell_type": "code",
   "execution_count": 8,
   "metadata": {},
   "outputs": [
    {
     "name": "stdout",
     "output_type": "stream",
     "text": [
      "[[0. 0. 0. ... 0. 0. 0.]\n",
      " [0. 0. 0. ... 0. 0. 0.]\n",
      " [0. 0. 0. ... 0. 0. 0.]\n",
      " ...\n",
      " [0. 0. 0. ... 0. 0. 0.]\n",
      " [0. 0. 0. ... 0. 0. 0.]\n",
      " [0. 0. 0. ... 0. 0. 0.]]\n"
     ]
    }
   ],
   "source": [
    "print(tfidf_matrix.toarray())\n"
   ]
  },
  {
   "cell_type": "code",
   "execution_count": 9,
   "metadata": {},
   "outputs": [
    {
     "name": "stdout",
     "output_type": "stream",
     "text": [
      "Document vector length: 27299\n",
      "Non-zero dimensions for document 0: 202\n",
      "Non-zero dimensions for document 1: 67\n",
      "Non-zero dimensions for document 2: 131\n",
      "Non-zero dimensions for document 3: 97\n",
      "Non-zero dimensions for document 4: 142\n"
     ]
    }
   ],
   "source": [
    "print(\"Document vector length:\", tfidf_matrix.shape[1])\n",
    "for i in range(5):\n",
    "    print(\"Non-zero dimensions for document %d: %d\" % (i, len([x for x in tfidf_matrix.toarray()[i] if x > 0])))\n"
   ]
  },
  {
   "cell_type": "code",
   "execution_count": 10,
   "metadata": {},
   "outputs": [
    {
     "name": "stdout",
     "output_type": "stream",
     "text": [
      "Sample word: activate\n",
      "Occurs in 110 documents\n",
      "out of 9923 documents\n"
     ]
    }
   ],
   "source": [
    "print(\"Sample word:\", features[1000])\n",
    "print(\"Occurs in %d documents\" % len([x for x in tfidf_matrix.toarray()[:][1000] if x > 0]))\n",
    "print(\"out of %d documents\" % len(tfidf_matrix.toarray()))\n"
   ]
  },
  {
   "cell_type": "code",
   "execution_count": 11,
   "metadata": {},
   "outputs": [
    {
     "data": {
      "text/plain": [
       "KMeans(n_clusters=30, random_state=123)"
      ]
     },
     "execution_count": 11,
     "metadata": {},
     "output_type": "execute_result"
    }
   ],
   "source": [
    "matrix_sample = tfidf_matrix[:1000]\n",
    "from sklearn.cluster import KMeans\n",
    "\n",
    "# Do clustering\n",
    "km = KMeans(n_clusters=30, random_state=123, verbose=0)\n",
    "km.fit(matrix_sample)\n"
   ]
  },
  {
   "cell_type": "code",
   "execution_count": 12,
   "metadata": {},
   "outputs": [],
   "source": [
    "import heapq, numpy as np\n",
    "\n",
    "# Custom function to print top keywords for each cluster\n",
    "def print_clusters(matrix, clusters, n_keywords=10):\n",
    "    for cluster in range(min(clusters), max(clusters)+1):\n",
    "        cluster_docs = [i for i, c in enumerate(clusters) if c == cluster]\n",
    "        print(\"Cluster: %d (%d docs)\" % (cluster, len(cluster_docs)))\n",
    "        \n",
    "        # Keep scores for top n terms\n",
    "        new_matrix = np.zeros((len(cluster_docs), matrix.shape[1]))\n",
    "        for cluster_i, doc_vec in enumerate(matrix[cluster_docs].toarray()):\n",
    "            for idx, score in heapq.nlargest(n_keywords, enumerate(doc_vec), key=lambda x:x[1]):\n",
    "                new_matrix[cluster_i][idx] = score\n",
    "\n",
    "        # Aggregate scores for kept top terms\n",
    "        keywords = heapq.nlargest(n_keywords, zip(new_matrix.sum(axis=0), features))\n",
    "        print(', '.join([w for s,w in keywords]))\n",
    "        print()\n"
   ]
  },
  {
   "cell_type": "code",
   "execution_count": 13,
   "metadata": {},
   "outputs": [
    {
     "data": {
      "text/plain": [
       "array([22,  9,  1,  9, 28, 22, 15,  6, 27,  1, 12, 15,  8,  6,  9, 10,  7,\n",
       "        5,  1, 27, 20,  8, 20, 20, 12, 20, 10, 22,  1, 14, 12, 20,  6, 12,\n",
       "       12, 14,  6,  7,  6,  6, 26, 26, 20, 10, 20, 12, 22, 12,  1, 22,  6,\n",
       "       20,  7, 11, 29, 14, 12,  6, 10, 26, 22, 28, 11, 14, 26,  7, 12, 20,\n",
       "       22, 12,  8, 14,  8, 11,  7,  8, 28,  8,  5,  8, 11, 12, 11, 14,  7,\n",
       "       10,  5, 10, 20, 10, 28, 10, 11, 10, 12,  1, 20, 12, 26,  1,  1, 12,\n",
       "       10, 14, 14,  6, 15,  6, 22, 14, 26, 20,  9, 22, 20, 16, 20,  9,  1,\n",
       "       29, 20,  8,  8, 12, 10, 20,  8, 29, 12, 20,  4, 12,  7, 15, 11, 27,\n",
       "       22, 10, 12,  7, 14,  7,  7, 15, 26, 12, 11, 26, 11,  7, 12, 16, 22,\n",
       "        5, 20, 13,  6,  5, 26, 22,  6, 22,  6, 26, 26, 12,  8, 22, 11,  7,\n",
       "       26,  7,  7,  7, 12,  7,  7, 15, 20, 20, 26, 26,  6, 22, 26, 22, 15,\n",
       "       11, 14,  1, 16,  6,  7,  7, 26,  4, 16, 15, 26,  7, 11,  8,  7, 12,\n",
       "        9, 16, 15, 26, 15, 14, 27,  1,  6, 15, 27,  8,  8, 15, 12, 23,  6,\n",
       "       26,  6,  8, 16,  6, 11,  7, 22,  9,  1,  7, 22, 12, 12, 28,  9,  1,\n",
       "       16,  6,  1,  4, 14, 12, 27, 10, 13,  5,  5,  8,  8,  4, 12,  1, 26,\n",
       "        1, 10,  1, 12,  9, 12,  9, 14, 12, 12,  2, 11,  5,  6,  7,  1,  8,\n",
       "       23, 14, 15, 23, 11, 12, 16, 12, 12,  4,  8,  4, 12, 12, 27,  7, 14,\n",
       "       16, 16, 12, 23,  9, 14, 12, 22,  8,  8, 12, 10,  9, 10, 10, 29,  8,\n",
       "       10, 10, 12, 22, 12,  8,  1,  6, 12,  0,  9, 29,  3,  4, 16, 14, 16,\n",
       "        8,  7, 10,  0, 24, 22, 12, 12, 12,  8, 27,  6, 24,  5, 11, 16, 10,\n",
       "       29,  4,  8, 16, 24, 12,  8, 22, 12, 29, 12, 16, 24, 16, 14,  5,  8,\n",
       "        8,  6, 12, 15, 29, 12, 10, 12,  4,  7,  3,  7,  6, 21, 12, 24, 10,\n",
       "       10,  1,  9, 23, 10,  3, 16,  3,  3,  9,  3, 16, 26,  3, 13, 13, 15,\n",
       "       10, 11, 13, 15,  1,  9, 23, 16, 14,  2, 28,  9, 12,  1, 10,  8, 14,\n",
       "        4, 12, 10,  6, 14,  0,  1,  2,  2, 23, 14, 16, 12,  9, 12, 26,  0,\n",
       "       26, 12,  1, 12, 14, 19, 16, 12,  8, 10,  2, 12, 28, 19,  4, 12,  7,\n",
       "        9, 26, 12,  8, 10, 16, 16, 10,  1, 19,  7, 13, 12,  9, 14, 12, 19,\n",
       "        3, 27, 16, 16,  2, 27, 16, 23, 16, 23, 16, 16, 15, 16, 28, 28,  9,\n",
       "        5, 19, 14,  4,  0,  7,  6, 12,  8,  0,  4, 28, 16, 15,  6,  0, 10,\n",
       "       10, 13,  4, 17, 15, 16,  9, 16, 16,  9, 23, 23, 14,  9,  9, 15, 16,\n",
       "        2, 17,  2, 14,  7,  2,  7,  9,  9,  0, 12, 14,  2,  2,  2, 16, 26,\n",
       "       16,  2, 22, 10,  2, 13, 14,  2, 14,  2, 13,  2, 16, 12, 23,  2,  2,\n",
       "        2,  2, 27,  2, 23, 11,  2,  2,  2, 21,  2,  2,  2,  1,  2, 12, 15,\n",
       "        2,  0, 10, 23,  4, 12, 23,  2,  6,  2,  2,  2,  2,  2,  5,  3,  2,\n",
       "        2, 16,  2, 13, 13, 13, 13,  2, 21,  2, 15,  2,  2,  2,  2, 16, 26,\n",
       "        2,  2,  9,  2,  2,  2,  2,  2,  2, 21, 17,  2,  2, 21,  2,  2,  2,\n",
       "       21,  2, 26,  2, 21, 16,  2,  3, 21, 21, 21, 21, 13, 24, 16, 16,  5,\n",
       "        5,  3, 21,  2, 12, 21, 28, 21,  6, 21,  7, 17, 21, 21,  3,  2,  3,\n",
       "        6, 14, 19, 26, 13, 21, 21, 12, 21, 21, 21, 21, 14, 17, 23,  6, 21,\n",
       "       21,  2, 21, 17, 17, 17,  9,  9, 16, 17, 17, 15, 17,  0,  9, 17, 17,\n",
       "       10, 17,  6, 17, 16, 17, 17,  7, 17,  1, 17, 17, 12, 17, 14, 17, 17,\n",
       "       17, 17, 17, 17, 17, 17, 17, 14, 16, 17, 17, 13, 13, 13, 13, 13, 13,\n",
       "       13, 13, 13, 13, 13, 13, 13, 13, 13, 13, 13, 13, 13, 13, 13, 13, 14,\n",
       "       23,  8,  5, 16, 17, 13, 23, 14, 10, 14, 16,  5, 16,  5, 16,  9,  6,\n",
       "       12, 14, 22,  6,  2, 23,  2,  2, 12, 12,  2,  9,  6, 14, 23, 12,  4,\n",
       "        2, 13, 12,  1, 15,  2,  2,  2,  1, 12, 11, 11,  2,  9,  7,  8,  7,\n",
       "       12,  7, 13, 13,  6, 26,  6,  7,  9, 10, 10, 12, 28, 10, 23,  5,  6,\n",
       "       15, 10,  9, 16,  4, 16, 22, 16,  9,  8, 14, 14, 22, 25, 12, 24, 14,\n",
       "        6,  2, 15, 14,  5, 12, 14, 10, 16, 14, 10,  4, 14,  5, 12, 17, 16,\n",
       "        8, 16,  2, 26,  1, 13,  7, 14,  1, 24,  5, 12,  9, 12, 23, 18,  8,\n",
       "        6,  4,  4, 14, 14, 23,  9, 24, 10,  2, 12, 16,  9,  3,  7,  1, 16,\n",
       "       28,  2, 12,  6, 25,  5, 28,  1,  2,  2, 16, 24, 14, 25,  8,  4, 19,\n",
       "       12, 12, 11, 14, 12, 28, 25,  6, 16,  8, 14, 12, 18,  5, 14, 14, 14,\n",
       "        9, 12,  8, 25, 26, 25, 12,  2,  5,  2, 25,  4, 25,  2,  2,  2, 25,\n",
       "        6, 22,  0, 16, 25, 27, 25, 14, 10,  5, 12, 14,  6,  8, 14,  8, 16,\n",
       "       26, 14, 24, 12,  6, 10, 15, 22,  5, 10, 15,  8, 18, 14, 27, 19, 16,\n",
       "       18,  7, 12, 15, 18, 14,  8, 12,  2, 24,  4, 14,  6, 26,  3,  5,  5,\n",
       "        6, 13, 22,  8, 12,  3, 12, 16,  4, 22, 14, 22,  8, 14, 15, 16,  1,\n",
       "        6,  9,  8, 10, 23, 12,  1, 24, 14, 28, 23,  7, 28, 24])"
      ]
     },
     "execution_count": 13,
     "metadata": {},
     "output_type": "execute_result"
    }
   ],
   "source": [
    "km.labels_\n"
   ]
  },
  {
   "cell_type": "code",
   "execution_count": 14,
   "metadata": {},
   "outputs": [
    {
     "name": "stdout",
     "output_type": "stream",
     "text": [
      "Cluster: 0 (11 docs)\n",
      "china, urban, town, metropolitan, tourism, qing, modernity, beirut, landscape, verde\n",
      "\n",
      "Cluster: 1 (35 docs)\n",
      "printing, resistivity, regression, xerography, sequential, sinkholes, statistical, uml, markov, industry\n",
      "\n",
      "Cluster: 2 (85 docs)\n",
      "teachers, colleges, college, curriculum, teacher, alliance, workforce, technicians, manufacturing, industry\n",
      "\n",
      "Cluster: 3 (16 docs)\n",
      "fellowship, postdoctoral, he, informatics, redshift, galaxies, training, she, stars, astronomy\n",
      "\n",
      "Cluster: 4 (24 docs)\n",
      "straightening, repair, regression, nigms, anthracis, heat, bacillus, linear, damaged, error\n",
      "\n",
      "Cluster: 5 (28 docs)\n",
      "curvature, manifolds, metrics, einstein, riemannian, conformal, jets, kona, transverse, lows\n",
      "\n",
      "Cluster: 6 (49 docs)\n",
      "equations, dynamical, schrodinger, nonlinear, approximation, resonances, asymptotic, waves, maps, fluid\n",
      "\n",
      "Cluster: 7 (43 docs)\n",
      "operators, harmonic, ergodic, operator, theorems, integrals, equations, spaces, toeplitz, polynomial\n",
      "\n",
      "Cluster: 8 (48 docs)\n",
      "polymer, films, diamond, amorphous, deposition, polymers, md, plasma, micro, metallic\n",
      "\n",
      "Cluster: 9 (42 docs)\n",
      "conference, meeting, symposium, algebraic, indigenous, 2002, statistics, melbourne, seminar, stochastic\n",
      "\n",
      "Cluster: 10 (48 docs)\n",
      "sensor, manufacturing, autonomous, locomotion, robots, voting, swiss, packages, detachment, lam\n",
      "\n",
      "Cluster: 11 (21 docs)\n",
      "arithmetic, functions, automorphic, numbers, conjecture, symmetric, modular, galois, theory, eisenstein\n",
      "\n",
      "Cluster: 12 (101 docs)\n",
      "optimization, sdp, contract, random, semidefinite, sediment, quadratic, mappings, ultrabroadband, required\n",
      "\n",
      "Cluster: 13 (43 docs)\n",
      "available, not, zygotic, zygomycota, zygomycetes, zygmund, zworski, zurich, zuni, zro2\n",
      "\n",
      "Cluster: 14 (66 docs)\n",
      "superconductors, quantum, magnetic, helium, spin, crystals, superconducting, semiconductor, superfluid, molecules\n",
      "\n",
      "Cluster: 15 (30 docs)\n",
      "algebras, quantum, manifolds, subfactors, spaces, operator, theory, string, topology, commutative\n",
      "\n",
      "Cluster: 16 (65 docs)\n",
      "workshop, terrorist, attacks, attitudes, japan, adolescents, kdi, harvard, wtc, russian\n",
      "\n",
      "Cluster: 17 (34 docs)\n",
      "abroad, dr, fellowship, twenty, oxford, netherlands, archaeological, exotic, amb, soil\n",
      "\n",
      "Cluster: 18 (5 docs)\n",
      "mantle, subduction, arc, costa, passcal, factory, wedge, magma, receiver, cocos\n",
      "\n",
      "Cluster: 19 (8 docs)\n",
      "iron, arsenic, corrosion, haiwee, tectonically, phosphorus, sediments, srb, mobilization, gulf\n",
      "\n",
      "Cluster: 20 (20 docs)\n",
      "microbial, fellowship, biology, bacterial, fungal, fungi, bacteria, training, virulence, endophytes\n",
      "\n",
      "Cluster: 21 (26 docs)\n",
      "fellowship, mathematical, sciences, fellowships, zygotic, zygomycota, zygomycetes, zygmund, zworski, zurich\n",
      "\n",
      "Cluster: 22 (31 docs)\n",
      "algebraic, curves, geometry, moduli, varieties, algebra, polytopes, riemann, hilbert, abelian\n",
      "\n",
      "Cluster: 23 (25 docs)\n",
      "magnetic, magnetosphere, particle, ring, particles, ionosphere, acceleration, inner, energetic, cmes\n",
      "\n",
      "Cluster: 24 (14 docs)\n",
      "clay, friction, subduction, mineralogy, nankai, coefficient, shales, overconsolidated, shale, sliding\n",
      "\n",
      "Cluster: 25 (11 docs)\n",
      "crcd, curriculum, entitled, notre, dame, smart, communications, photovoltaic, pittsburgh, texas\n",
      "\n",
      "Cluster: 26 (33 docs)\n",
      "algebras, algebra, representation, symmetries, lie, commutative, algebraic, theory, geometric, matrices\n",
      "\n",
      "Cluster: 27 (13 docs)\n",
      "oceanographic, vessel, ship, ships, shipboard, operated, equipment, transceivers, unols, retrieval\n",
      "\n",
      "Cluster: 28 (17 docs)\n",
      "cad, parameterization, platform, xenon, resultants, platforms, tasks, grid, chips, desktop\n",
      "\n",
      "Cluster: 29 (8 docs)\n",
      "centrifuge, laminar, nied, shaking, liquefaction, seismic, box, earthquake, 1g, rpi\n",
      "\n"
     ]
    }
   ],
   "source": [
    "print_clusters(matrix_sample, km.labels_)\n"
   ]
  },
  {
   "cell_type": "code",
   "execution_count": 15,
   "metadata": {},
   "outputs": [
    {
     "data": {
      "image/png": "[encoded data removed]",
      "text/plain": [
       "<Figure size 432x288 with 1 Axes>"
      ]
     },
     "metadata": {
      "needs_background": "light"
     },
     "output_type": "display_data"
    }
   ],
   "source": [
    "from scipy.cluster.hierarchy import dendrogram, linkage, fcluster\n",
    "\n",
    "Z = linkage(matrix_sample.todense(), metric='cosine', method='complete')\n",
    "_ = dendrogram(Z, no_labels=True) # Plot dentrogram chart\n"
   ]
  },
  {
   "cell_type": "code",
   "execution_count": 16,
   "metadata": {},
   "outputs": [
    {
     "data": {
      "image/png": "[encoded data removed]",
      "text/plain": [
       "<Figure size 432x288 with 1 Axes>"
      ]
     },
     "metadata": {
      "needs_background": "light"
     },
     "output_type": "display_data"
    }
   ],
   "source": [
    "Z_ = linkage(matrix_sample.todense()[:25], metric='cosine', method='complete')\n",
    "_ = dendrogram(Z_, no_labels=True) # Plot dentrogram chart\n"
   ]
  },
  {
   "cell_type": "code",
   "execution_count": 17,
   "metadata": {
    "scrolled": false
   },
   "outputs": [
    {
     "name": "stdout",
     "output_type": "stream",
     "text": [
      "Cluster: 1 (7 docs)\n",
      "ethnic, tourism, chinese, workers, tourist, firms, guides, tour, welfare, beirut\n",
      "\n",
      "Cluster: 2 (5 docs)\n",
      "costa, subduction, arc, mantle, passcal, flux, rica, factory, wedge, receiver\n",
      "\n",
      "Cluster: 3 (4 docs)\n",
      "tectonically, continental, gulf, detachment, earlist, dredge, segmented, rifts, basement, accompanies\n",
      "\n",
      "Cluster: 4 (13 docs)\n",
      "magnetic, magnetosphere, ionosphere, inner, ring, particle, formalism, auroral, relativistic, ions\n",
      "\n",
      "Cluster: 5 (7 docs)\n",
      "aerosol, muon, indoex, rsvp, climate, ice, chile, rainy, ring, logger\n",
      "\n",
      "Cluster: 6 (8 docs)\n",
      "iron, arsenic, sediment, corrosion, haiwee, phosphorus, strickland, floodplain, sediments, srb\n",
      "\n",
      "Cluster: 7 (56 docs)\n",
      "customer, china, cad, nonlinear, control, platform, land, platforms, reverse, planning\n",
      "\n",
      "Cluster: 8 (29 docs)\n",
      "sdp, wavelet, polynomials, semidefinite, speckle, quadratic, integer, convex, dynamical, wavelets\n",
      "\n",
      "Cluster: 9 (62 docs)\n",
      "quantum, superconductors, magnetic, spin, superconductivity, composite, superconducting, frp, superfluid, semiconductor\n",
      "\n",
      "Cluster: 10 (22 docs)\n",
      "archaeological, brain, figurines, tumors, cyclogenesis, coils, ligand, mri, kona, agent\n",
      "\n",
      "Cluster: 11 (13 docs)\n",
      "terrorist, attacks, attitudes, wtc, public, trust, polling, actions, workshop, aftermath\n",
      "\n",
      "Cluster: 12 (10 docs)\n",
      "voting, accessibility, canopy, kent, elderly, wang, cosmos, paul, forest, harvard\n",
      "\n",
      "Cluster: 13 (75 docs)\n",
      "equations, random, conformal, regression, dynamical, monge, einstein, elliptic, manifolds, nonlinear\n",
      "\n",
      "Cluster: 14 (35 docs)\n",
      "algebraic, algebra, geometry, commutative, curves, geometric, varieties, polynomial, ideals, galois\n",
      "\n",
      "Cluster: 15 (5 docs)\n",
      "jets, manipulation, transverse, jet, robots, mixing, she, virtual, modular, associate\n",
      "\n",
      "Cluster: 16 (27 docs)\n",
      "sparse, parallel, hierarchical, matrices, software, graded, operations, constitutive, algebra, scheduling\n",
      "\n",
      "Cluster: 17 (1 docs)\n",
      "retardation, multipole, relativity, ionization, correlations, scattering, atomic, investigations, electron, higher\n",
      "\n",
      "Cluster: 18 (7 docs)\n",
      "cmes, coronal, solar, coronagraph, cme, shock, au, ulysses, sep, flares\n",
      "\n",
      "Cluster: 19 (2 docs)\n",
      "western, coral, algebraists, decadal, operator, ramsay, abreast, solomon, multi, reinforces\n",
      "\n",
      "Cluster: 20 (12 docs)\n",
      "subduction, laminar, mineralogy, table, clay, centrifuge, nied, shaking, forensic, isotope\n",
      "\n",
      "Cluster: 21 (13 docs)\n",
      "fluid, particles, immiscible, combustion, fluids, particle, opto, motion, singularities, convection\n",
      "\n",
      "Cluster: 22 (8 docs)\n",
      "mesoscale, granular, lake, classic, effect, ccsm, waves, synoptic, diffusivity, convective\n",
      "\n",
      "Cluster: 23 (11 docs)\n",
      "bone, muscle, cardiac, stimulation, breast, nerve, stretch, tendon, invasive, deformation\n",
      "\n",
      "Cluster: 24 (4 docs)\n",
      "bubble, plume, reservoir, soap, morgan, bubbles, mixing, microfluidic, monitored, injury\n",
      "\n",
      "Cluster: 25 (18 docs)\n",
      "films, amorphous, fuel, micro, deposition, friction, metrology, nano, lubrication, unusual\n",
      "\n",
      "Cluster: 26 (8 docs)\n",
      "organizational, adolescents, texts, friendship, town, movements, mental, harvard, government, agendas\n",
      "\n",
      "Cluster: 27 (13 docs)\n",
      "japan, database, workshop, ices, atlantic, nanotechnology, biological, biology, globec, integrative\n",
      "\n",
      "Cluster: 28 (36 docs)\n",
      "molecules, photodissociation, clusters, films, charge, droplets, crystals, polymers, helium, magnetic\n",
      "\n",
      "Cluster: 29 (12 docs)\n",
      "he, redshift, galaxies, asymmetric, stars, astronomy, stereogenic, membered, slit, his\n",
      "\n",
      "Cluster: 30 (18 docs)\n",
      "printing, xerography, manufacturing, swiss, lam, polymer, plastics, sequential, fleming, color\n",
      "\n",
      "Cluster: 31 (14 docs)\n",
      "crcd, curriculum, entitled, notre, dame, communications, chile, universidad, photovoltaic, pittsburgh\n",
      "\n",
      "Cluster: 32 (17 docs)\n",
      "oceanographic, vessel, ship, ships, shipboard, operated, equipment, transceivers, unols, retrieval\n",
      "\n",
      "Cluster: 33 (21 docs)\n",
      "conference, symposium, meeting, statistics, melbourne, stochastic, 2002, mg2, manipulators, 28th\n",
      "\n",
      "Cluster: 34 (13 docs)\n",
      "workshop, kdi, workshops, meetings, pbo, vancouver, congress, gaim, chlamydomonas, igbp\n",
      "\n",
      "Cluster: 35 (92 docs)\n",
      "algebras, theory, spaces, manifolds, representation, arithmetic, operator, lie, symmetries, conjecture\n",
      "\n",
      "Cluster: 36 (17 docs)\n",
      "czech, 3d, resistivity, dye, sinkholes, turbulent, cave, magma, 2d, turbulence\n",
      "\n",
      "Cluster: 37 (12 docs)\n",
      "optical, ultrabroadband, gravitational, fiber, fs, semiconductor, stars, cavity, frog, ligo\n",
      "\n",
      "Cluster: 38 (1 docs)\n",
      "anthracis, bacillus, outbreak, virulence, quest, anthrax, sequence, strains, phylogenetic, comparisons\n",
      "\n",
      "Cluster: 39 (25 docs)\n",
      "straightening, earthquake, repair, seismic, heat, wind, shales, damage, damaged, overconsolidated\n",
      "\n",
      "Cluster: 40 (12 docs)\n",
      "sensor, liquid, xenon, prosthesis, stimulator, module, smart, interfacial, retinal, capillary\n",
      "\n",
      "Cluster: 41 (76 docs)\n",
      "teachers, colleges, college, curriculum, teacher, alliance, technicians, manufacturing, industry, umeb\n",
      "\n",
      "Cluster: 42 (15 docs)\n",
      "collider, detector, assistive, disabilities, neutrinos, neutrino, persons, babar, experiment, projects\n",
      "\n",
      "Cluster: 43 (86 docs)\n",
      "fellowship, mathematical, sciences, postdoctoral, abroad, microbial, bacterial, fungal, biology, dr\n",
      "\n",
      "Cluster: 44 (46 docs)\n",
      "available, not, packages, cheating, macroeconomics, cheat, encouragement, retired, economists, papers\n",
      "\n",
      "Cluster: 45 (10 docs)\n",
      "fellowships, mathematical, nigms, sciences, rna, magazine, antisense, genes, translations, ribozymes\n",
      "\n",
      "Cluster: 46 (1 docs)\n",
      "required, no, abstract, zygotic, zygomycota, zygomycetes, zygmund, zworski, zurich, zuni\n",
      "\n",
      "Cluster: 47 (1 docs)\n",
      "contract, zygotic, zygomycota, zygomycetes, zygmund, zworski, zurich, zuni, zro2, zr\n",
      "\n"
     ]
    }
   ],
   "source": [
    "clusters = fcluster(Z, 0.99, criterion='distance') # Create flat clusters by distance threshold\n",
    "\n",
    "print_clusters(matrix_sample, clusters)\n"
   ]
  },
  {
   "cell_type": "code",
   "execution_count": 18,
   "metadata": {},
   "outputs": [],
   "source": [
    "## Topic modeling demo\n",
    "#!pip3 install gensim\n",
    "\n",
    "# Fast and simple tokenization\n",
    "new_vectorizer = TfidfVectorizer()\n",
    "word_tokenizer = new_vectorizer.build_tokenizer()\n",
    "tokenized_text = [word_tokenizer(doc) for doc in abstracts]\n",
    "\n",
    "# Train LDA model\n",
    "from gensim import corpora, models\n",
    "dictionary = corpora.Dictionary(tokenized_text)\n",
    "lda_corpus = [dictionary.doc2bow(text) for text in tokenized_text]\n",
    "lda_model = models.LdaModel(lda_corpus, id2word=dictionary, num_topics=10)\n"
   ]
  },
  {
   "cell_type": "code",
   "execution_count": 19,
   "metadata": {
    "scrolled": true
   },
   "outputs": [
    {
     "name": "stdout",
     "output_type": "stream",
     "text": [
      "Similar terms to: activate\n"
     ]
    },
    {
     "data": {
      "text/plain": [
       "[(1.0, 'activate'),\n",
       " (0.4467520998979391, 'coactivators'),\n",
       " (0.42889032702581664, 'progesterone'),\n",
       " (0.32482802354394924, 'src'),\n",
       " (0.2686122567729347, 'glucan'),\n",
       " (0.2497143994273816, 'ovarian'),\n",
       " (0.23081499344794168, 'actin'),\n",
       " (0.22417103095601956, 'p53'),\n",
       " (0.20983754293502693, 'immuno'),\n",
       " (0.20794789527290336, 'steroid')]"
      ]
     },
     "execution_count": 19,
     "metadata": {},
     "output_type": "execute_result"
    }
   ],
   "source": [
    "from sklearn.metrics.pairwise import cosine_similarity\n",
    "\n",
    "term_index = 1000\n",
    "print(\"Similar terms to:\", features[term_index])\n",
    "# Get most similar terms according to the cosine similarity of their vectors (columns in the term-document matrix)\n",
    "heapq.nlargest(10, zip(cosine_similarity(tfidf_matrix[:,term_index].todense().T, tfidf_matrix.todense().T)[0], features))\n"
   ]
  },
  {
   "cell_type": "code",
   "execution_count": 20,
   "metadata": {},
   "outputs": [
    {
     "name": "stderr",
     "output_type": "stream",
     "text": [
      "2021-02-24 10:41:47,280 : INFO : collecting all words and their counts\n",
      "2021-02-24 10:41:47,281 : INFO : PROGRESS: at sentence #0, processed 0 words, keeping 0 word types\n",
      "2021-02-24 10:41:47,780 : INFO : collected 63620 word types from a corpus of 2817564 raw words and 9923 sentences\n",
      "2021-02-24 10:41:47,781 : INFO : Loading a fresh vocabulary\n",
      "2021-02-24 10:41:47,957 : INFO : effective_min_count=3 retains 29581 unique words (46% of original 63620, drops 34039)\n",
      "2021-02-24 10:41:47,958 : INFO : effective_min_count=3 leaves 2774058 word corpus (98% of original 2817564, drops 43506)\n",
      "2021-02-24 10:41:48,052 : INFO : deleting the raw counts dictionary of 63620 items\n",
      "2021-02-24 10:41:48,054 : INFO : sample=0.001 downsamples 26 most-common words\n",
      "2021-02-24 10:41:48,054 : INFO : downsampling leaves estimated 2161148 word corpus (77.9% of prior 2774058)\n",
      "2021-02-24 10:41:48,125 : INFO : estimated required memory for 29581 words and 100 dimensions: 38455300 bytes\n",
      "2021-02-24 10:41:48,126 : INFO : resetting layer weights\n",
      "2021-02-24 10:41:54,248 : INFO : training model with 4 workers on 29581 vocabulary and 100 features, using sg=0 hs=0 sample=0.001 negative=5 window=5\n",
      "2021-02-24 10:41:55,260 : INFO : EPOCH 1 - PROGRESS: at 80.54% examples, 1725188 words/s, in_qsize 7, out_qsize 0\n",
      "2021-02-24 10:41:55,496 : INFO : worker thread finished; awaiting finish of 3 more threads\n",
      "2021-02-24 10:41:55,497 : INFO : worker thread finished; awaiting finish of 2 more threads\n",
      "2021-02-24 10:41:55,501 : INFO : worker thread finished; awaiting finish of 1 more threads\n",
      "2021-02-24 10:41:55,502 : INFO : worker thread finished; awaiting finish of 0 more threads\n",
      "2021-02-24 10:41:55,503 : INFO : EPOCH - 1 : training on 2817564 raw words (2161615 effective words) took 1.3s, 1726802 effective words/s\n",
      "2021-02-24 10:41:56,508 : INFO : EPOCH 2 - PROGRESS: at 78.81% examples, 1700174 words/s, in_qsize 8, out_qsize 0\n",
      "2021-02-24 10:41:56,767 : INFO : worker thread finished; awaiting finish of 3 more threads\n",
      "2021-02-24 10:41:56,773 : INFO : worker thread finished; awaiting finish of 2 more threads\n",
      "2021-02-24 10:41:56,777 : INFO : worker thread finished; awaiting finish of 1 more threads\n",
      "2021-02-24 10:41:56,779 : INFO : worker thread finished; awaiting finish of 0 more threads\n",
      "2021-02-24 10:41:56,779 : INFO : EPOCH - 2 : training on 2817564 raw words (2161275 effective words) took 1.3s, 1698268 effective words/s\n",
      "2021-02-24 10:41:57,785 : INFO : EPOCH 3 - PROGRESS: at 79.75% examples, 1719869 words/s, in_qsize 7, out_qsize 0\n",
      "2021-02-24 10:41:58,022 : INFO : worker thread finished; awaiting finish of 3 more threads\n",
      "2021-02-24 10:41:58,027 : INFO : worker thread finished; awaiting finish of 2 more threads\n",
      "2021-02-24 10:41:58,030 : INFO : worker thread finished; awaiting finish of 1 more threads\n",
      "2021-02-24 10:41:58,033 : INFO : worker thread finished; awaiting finish of 0 more threads\n",
      "2021-02-24 10:41:58,034 : INFO : EPOCH - 3 : training on 2817564 raw words (2161055 effective words) took 1.3s, 1726896 effective words/s\n",
      "2021-02-24 10:41:59,039 : INFO : EPOCH 4 - PROGRESS: at 79.12% examples, 1707488 words/s, in_qsize 7, out_qsize 0\n",
      "2021-02-24 10:41:59,288 : INFO : worker thread finished; awaiting finish of 3 more threads\n",
      "2021-02-24 10:41:59,291 : INFO : worker thread finished; awaiting finish of 2 more threads\n",
      "2021-02-24 10:41:59,295 : INFO : worker thread finished; awaiting finish of 1 more threads\n",
      "2021-02-24 10:41:59,299 : INFO : worker thread finished; awaiting finish of 0 more threads\n",
      "2021-02-24 10:41:59,300 : INFO : EPOCH - 4 : training on 2817564 raw words (2161149 effective words) took 1.3s, 1712154 effective words/s\n",
      "2021-02-24 10:42:00,304 : INFO : EPOCH 5 - PROGRESS: at 79.75% examples, 1721620 words/s, in_qsize 7, out_qsize 0\n",
      "2021-02-24 10:42:00,555 : INFO : worker thread finished; awaiting finish of 3 more threads\n",
      "2021-02-24 10:42:00,560 : INFO : worker thread finished; awaiting finish of 2 more threads\n",
      "2021-02-24 10:42:00,561 : INFO : worker thread finished; awaiting finish of 1 more threads\n",
      "2021-02-24 10:42:00,562 : INFO : worker thread finished; awaiting finish of 0 more threads\n",
      "2021-02-24 10:42:00,563 : INFO : EPOCH - 5 : training on 2817564 raw words (2161581 effective words) took 1.3s, 1714997 effective words/s\n",
      "2021-02-24 10:42:00,564 : INFO : training on a 14087820 raw words (10806675 effective words) took 6.3s, 1711191 effective words/s\n"
     ]
    }
   ],
   "source": [
    "import gensim # Make sure you also have cython installed to accelerate computation!\n",
    "\n",
    "import logging\n",
    "logging.basicConfig(format='%(asctime)s : %(levelname)s : %(message)s', level=logging.INFO)\n",
    "\n",
    "# Train word2vec model\n",
    "vectors = gensim.models.Word2Vec(tokenized_text, size=100, window=5, min_count=3, workers=4)\n"
   ]
  },
  {
   "cell_type": "code",
   "execution_count": 21,
   "metadata": {},
   "outputs": [
    {
     "data": {
      "text/plain": [
       "array([-0.90953004,  0.81836754, -1.2900009 ,  1.1606756 ,  1.4592584 ,\n",
       "        0.54667056,  1.7854558 ,  0.92765826,  1.3956335 , -0.177849  ,\n",
       "        0.09046485, -1.6987875 ,  1.357826  , -0.11927579, -0.014988  ,\n",
       "        0.23494846, -0.19581324,  0.7204914 ,  0.64068794, -3.3971977 ,\n",
       "        0.3191342 ,  1.3723253 , -0.9613194 , -0.54091525, -0.9888401 ,\n",
       "        1.1723601 , -0.07445102, -0.799723  ,  0.07201891, -0.05726195,\n",
       "        0.45764053, -0.19950882,  0.43562016, -1.721234  , -0.23484747,\n",
       "       -0.876995  , -0.5557397 ,  0.04679805, -1.5417254 ,  0.16043055,\n",
       "       -1.5130715 ,  0.7550467 , -0.49763212,  0.7748843 ,  0.01341338,\n",
       "        1.4457353 , -1.7432455 ,  1.0071301 ,  1.8084767 , -0.37255585,\n",
       "       -1.2984295 , -0.05650708,  1.1424354 , -0.6647455 ,  1.8810067 ,\n",
       "       -0.8860951 ,  0.37330547,  0.2339391 ,  0.16134171, -0.04955637,\n",
       "       -0.1414454 , -1.6622316 ,  0.43541706, -2.6808136 , -0.05063106,\n",
       "        0.00950527,  0.81399316,  1.1374755 ,  0.49267164, -1.7269216 ,\n",
       "       -0.01652187,  0.86887765, -0.02409381, -1.0919927 , -0.7023016 ,\n",
       "        0.19004855,  0.7278587 , -1.0377477 ,  0.31784612,  0.7207524 ,\n",
       "        0.7725844 , -0.8420504 , -0.07380578, -0.31754485,  0.35220513,\n",
       "       -1.271246  ,  1.3212774 , -0.82198375, -0.27976125,  0.42537472,\n",
       "       -1.3535289 , -1.3029581 , -0.3789153 ,  1.8055253 , -0.51299965,\n",
       "       -0.60946465, -1.130077  ,  0.4507952 ,  0.5643211 , -0.69070345],\n",
       "      dtype=float32)"
      ]
     },
     "execution_count": 21,
     "metadata": {},
     "output_type": "execute_result"
    }
   ],
   "source": [
    "# Inspect a word vector\n",
    "vectors.wv['process']\n"
   ]
  },
  {
   "cell_type": "code",
   "execution_count": 22,
   "metadata": {},
   "outputs": [
    {
     "name": "stderr",
     "output_type": "stream",
     "text": [
      "2021-02-24 10:42:00,591 : INFO : precomputing L2-norms of word weight vectors\n"
     ]
    },
    {
     "name": "stdout",
     "output_type": "stream",
     "text": [
      "Most similar to: process\n",
      "[('strategy', 0.7257898449897766), ('mechanism', 0.6809995770454407), ('product', 0.6792237758636475), ('architecture', 0.6622252464294434), ('manner', 0.6400573253631592), ('way', 0.6343898773193359), ('paradigm', 0.6276974678039551), ('activity', 0.6218494176864624), ('formulation', 0.6190251708030701), ('system', 0.6143497228622437)]\n",
      "\n"
     ]
    }
   ],
   "source": [
    "# Inspect words with vectors most similar to a given word\n",
    "print(\"Most similar to:\", 'process')\n",
    "print(vectors.wv.most_similar('process'))\n",
    "print()\n"
   ]
  },
  {
   "cell_type": "code",
   "execution_count": 23,
   "metadata": {},
   "outputs": [
    {
     "name": "stdout",
     "output_type": "stream",
     "text": [
      "Most similar to: ['process', 'strategy']\n",
      "[('paradigm', 0.7559958100318909), ('approach', 0.740641176700592), ('methodology', 0.7338005304336548), ('architecture', 0.7316803336143494), ('product', 0.7177249193191528), ('protocol', 0.698704719543457), ('way', 0.6967167854309082), ('formulation', 0.69472336769104), ('mechanism', 0.6942002773284912), ('tool', 0.6924450397491455)]\n"
     ]
    }
   ],
   "source": [
    "# ...or combination or words (average vector)\n",
    "print(\"Most similar to:\", ['process', 'strategy'])\n",
    "print(vectors.wv.most_similar(['process', 'strategy']))\n"
   ]
  },
  {
   "cell_type": "code",
   "execution_count": 24,
   "metadata": {},
   "outputs": [
    {
     "name": "stdout",
     "output_type": "stream",
     "text": [
      "0.5949236\n",
      "0.3743288\n",
      "0.3559913\n",
      "0.5727541\n"
     ]
    }
   ],
   "source": [
    "# Inspect cosine similarities between specific words\n",
    "print(vectors.wv.similarity('technology', 'infrastructure'))\n",
    "print(vectors.wv.similarity('technology', 'system'))\n",
    "print(vectors.wv.similarity('technology', 'consumer'))\n",
    "print(vectors.wv.similarity('technology', 'advanced'))\n"
   ]
  },
  {
   "cell_type": "code",
   "execution_count": 28,
   "metadata": {},
   "outputs": [
    {
     "name": "stdout",
     "output_type": "stream",
     "text": [
      "['exacerbate', 'interface', 'fire', 'pathways', 'fewer']\n"
     ]
    }
   ],
   "source": [
    "words = [list(vectors.wv.vocab.keys())[(i+1)*1200] for i in range(5)]\n",
    "print(words)"
   ]
  },
  {
   "cell_type": "code",
   "execution_count": 29,
   "metadata": {},
   "outputs": [
    {
     "name": "stdout",
     "output_type": "stream",
     "text": [
      "[('Jewish', 0.8873485326766968), ('sects', 0.8749203681945801), ('stop', 0.8700597286224365), ('tan', 0.8687407970428467), ('maliciously', 0.8622428178787231), ('Has', 0.860679030418396), ('domestically', 0.8603434562683105), ('owners', 0.8577088117599487), ('favors', 0.8572164177894592), ('overly', 0.8551536798477173)]\n",
      "[('interfaces', 0.8546984791755676), ('nanoscale', 0.6302165985107422), ('layer', 0.6252212524414062), ('coupling', 0.618942141532898), ('circuit', 0.6170817613601685), ('architecture', 0.6104079484939575), ('interaction', 0.6074636578559875), ('continuum', 0.6067649126052856), ('switch', 0.5920110940933228), ('link', 0.5891084671020508)]\n",
      "[('vegetation', 0.8950409293174744), ('seasonal', 0.8772874474525452), ('forest', 0.8685150146484375), ('climatic', 0.8591132164001465), ('climates', 0.838323712348938), ('dispersal', 0.8271552920341492), ('floodplain', 0.8205798864364624), ('flood', 0.8170578479766846), ('interannual', 0.8142204284667969), ('arctic', 0.8088667392730713)]\n",
      "[('mechanisms', 0.8553897738456726), ('traits', 0.8215985298156738), ('regulation', 0.815657377243042), ('reactions', 0.7976272106170654), ('enzymes', 0.7889086604118347), ('proteins', 0.7825480103492737), ('metabolism', 0.7800180912017822), ('intermediates', 0.7742017507553101), ('signaling', 0.7706302404403687), ('pathway', 0.7690191864967346)]\n",
      "[('weaker', 0.8362911343574524), ('differently', 0.8350362777709961), ('considerably', 0.8046174049377441), ('Rather', 0.8022627234458923), ('older', 0.792182445526123), ('less', 0.7910919189453125), ('frequently', 0.7799718976020813), ('stronger', 0.7787488698959351), ('acclimate', 0.7777070999145508), ('dangerous', 0.7743433713912964)]\n"
     ]
    }
   ],
   "source": [
    "print(vectors.wv.most_similar(words[0]))\n",
    "print(vectors.wv.most_similar(words[1]))\n",
    "print(vectors.wv.most_similar(words[2]))\n",
    "print(vectors.wv.most_similar(words[3]))\n",
    "print(vectors.wv.most_similar(words[4]))\n",
    "\n"
   ]
  },
  {
   "cell_type": "code",
   "execution_count": null,
   "metadata": {},
   "outputs": [],
   "source": []
  },
  {
   "cell_type": "code",
   "execution_count": null,
   "metadata": {},
   "outputs": [],
   "source": []
  },
  {
   "cell_type": "code",
   "execution_count": null,
   "metadata": {},
   "outputs": [],
   "source": []
  }
 ],
 "metadata": {
  "kernelspec": {
   "display_name": "Python 3",
   "language": "python",
   "name": "python3"
  },
  "language_info": {
   "codemirror_mode": {
    "name": "ipython",
    "version": 3
   },
   "file_extension": ".py",
   "mimetype": "text/x-python",
   "name": "python",
   "nbconvert_exporter": "python",
   "pygments_lexer": "ipython3",
   "version": "3.8.3"
  }
 },
 "nbformat": 4,
 "nbformat_minor": 4
}
