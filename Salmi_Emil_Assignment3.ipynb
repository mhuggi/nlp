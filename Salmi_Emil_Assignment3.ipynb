{
 "cells": [
  {
   "cell_type": "code",
   "execution_count": 2,
   "metadata": {},
   "outputs": [],
   "source": [
    "# Extract correct dataset\n",
    "from zipfile import ZipFile\n",
    "\n",
    "abst = ZipFile('abstracts.zip')\n",
    "\n",
    "for file in abst.namelist():\n",
    "    if file.startswith('abstracts/awards_2002/'):\n",
    "        abst.extract(file)\n"
   ]
  },
  {
   "cell_type": "code",
   "execution_count": 1,
   "metadata": {},
   "outputs": [],
   "source": [
    "# Extracts abstracts from documents\n",
    "import os\n",
    "\n",
    "rootdir = 'abstracts/awards_2002'\n",
    "documents = []\n",
    "\n",
    "for sdir, dirs, files in os.walk(rootdir):\n",
    "    for file in files:\n",
    "        with open(os.path.join(sdir,file), \"rt\", encoding=\"unicode_escape\") as f:\n",
    "            documents.append([line.strip() for line in f.readlines()])\n",
    "            \n",
    "abstracts = []\n",
    "for d in documents:\n",
    "    s = \"\"\n",
    "    for i, t in enumerate(d):\n",
    "        if \"Abstract\" in t:\n",
    "            for t in d[i+1:]:\n",
    "                s += t\n",
    "                \n",
    "    abstracts.append(s)\n"
   ]
  },
  {
   "cell_type": "code",
   "execution_count": 2,
   "metadata": {},
   "outputs": [
    {
     "data": {
      "text/plain": [
       "(9923, 50000)"
      ]
     },
     "execution_count": 2,
     "metadata": {},
     "output_type": "execute_result"
    }
   ],
   "source": [
    "from sklearn.feature_extraction.text import TfidfVectorizer\n",
    "\n",
    "# Set parameters and initialize\n",
    "tfidf_vectorizer = TfidfVectorizer(min_df=2, use_idf=True, sublinear_tf=True, max_df=0.8, max_features=50000)\n",
    "\n",
    "# Calcualate term-document matrix with tf-idf scores\n",
    "tfidf_matrix = tfidf_vectorizer.fit_transform(abstracts)\n",
    "\n",
    "# Check matrix shape\n",
    "tfidf_matrix.toarray().shape # N_docs x N_terms\n"
   ]
  },
  {
   "cell_type": "code",
   "execution_count": 3,
   "metadata": {},
   "outputs": [
    {
     "name": "stdout",
     "output_type": "stream",
     "text": [
      "['00', '000', '0000', '0001', '000and', '000events', '000front', '000l', '000species', '000to']\n",
      "['zr', 'zro2', 'zuni', 'zurich', 'zworski', 'zygmund', 'zygmundoperators', 'zygomycetes', 'zygomycota', 'zygotic']\n"
     ]
    }
   ],
   "source": [
    "print(tfidf_vectorizer.get_feature_names()[:10])\n",
    "print(tfidf_vectorizer.get_feature_names()[-10:])\n"
   ]
  },
  {
   "cell_type": "code",
   "execution_count": 4,
   "metadata": {},
   "outputs": [
    {
     "data": {
      "text/plain": [
       "array([[0.],\n",
       "       [0.],\n",
       "       [0.],\n",
       "       ...,\n",
       "       [0.],\n",
       "       [0.],\n",
       "       [0.]])"
      ]
     },
     "execution_count": 4,
     "metadata": {},
     "output_type": "execute_result"
    }
   ],
   "source": [
    "tfidf_matrix[:,tfidf_vectorizer.get_feature_names().index('record')].toarray() # Get doc vector for term\n"
   ]
  },
  {
   "cell_type": "code",
   "execution_count": 5,
   "metadata": {},
   "outputs": [
    {
     "name": "stdout",
     "output_type": "stream",
     "text": [
      "7238\tbe\n",
      "6988\ton\n",
      "6814\twith\n",
      "6758\tthat\n",
      "6220\tare\n",
      "6195\tresearch\n",
      "6115\tas\n",
      "6101\tby\n",
      "5505\tfrom\n",
      "5160\tan\n",
      "5022\tproject\n",
      "5006\tat\n",
      "4810\tthese\n",
      "3836\thave\n",
      "3734\twhich\n",
      "3543\tit\n",
      "3509\tnew\n",
      "3427\tor\n",
      "3293\thas\n",
      "3283\tsuch\n"
     ]
    }
   ],
   "source": [
    "from collections import Counter\n",
    "terms_in_docs = tfidf_vectorizer.inverse_transform(tfidf_matrix)\n",
    "token_counter = Counter()\n",
    "for terms in terms_in_docs:\n",
    "    token_counter.update(terms)\n",
    "\n",
    "for term, count in token_counter.most_common(20):\n",
    "    print(\"%d\\t%s\" % (count, term))\n"
   ]
  },
  {
   "cell_type": "code",
   "execution_count": 6,
   "metadata": {},
   "outputs": [
    {
     "name": "stdout",
     "output_type": "stream",
     "text": [
      "\n",
      "Document 0, top terms by TF-IDF\n",
      "0.28\tchow\n",
      "0.16\thodge\n",
      "0.15\talgebraic\n",
      "0.14\tsubgroup\n",
      "0.14\tabelian\n",
      "\n",
      "Document 1, top terms by TF-IDF\n",
      "0.24\tcareersin\n",
      "0.24\tfriendships\n",
      "0.22\tcultivating\n",
      "0.22\tinterestto\n",
      "0.21\tethnically\n",
      "\n",
      "Document 2, top terms by TF-IDF\n",
      "0.24\tupdating\n",
      "0.16\tanddamped\n",
      "0.16\tsimulationmodels\n",
      "0.15\tsecondly\n",
      "0.14\tinvolveundergraduates\n",
      "\n",
      "Document 3, top terms by TF-IDF\n",
      "0.18\ttheconference\n",
      "0.17\tcomputations\n",
      "0.16\tconference\n",
      "0.16\talgebraicobjects\n",
      "0.16\tandcomputerscientists\n",
      "\n",
      "Document 4, top terms by TF-IDF\n",
      "0.18\tpreferences\n",
      "0.17\tmarketing\n",
      "0.16\tselection\n",
      "0.16\trobust\n",
      "0.15\tproduct\n"
     ]
    }
   ],
   "source": [
    "features = tfidf_vectorizer.get_feature_names()\n",
    "for doc_i in range(5):\n",
    "    print(\"\\nDocument %d, top terms by TF-IDF\" % doc_i)\n",
    "    for term, score in sorted(list(zip(features,tfidf_matrix.toarray()[doc_i])), key=lambda x:-x[1])[:5]:\n",
    "        print(\"%.2f\\t%s\" % (score, term))\n"
   ]
  },
  {
   "cell_type": "code",
   "execution_count": 7,
   "metadata": {},
   "outputs": [
    {
     "name": "stdout",
     "output_type": "stream",
     "text": [
      "[[0. 0. 0. ... 0. 0. 0.]\n",
      " [0. 0. 0. ... 0. 0. 0.]\n",
      " [0. 0. 0. ... 0. 0. 0.]\n",
      " ...\n",
      " [0. 0. 0. ... 0. 0. 0.]\n",
      " [0. 0. 0. ... 0. 0. 0.]\n",
      " [0. 0. 0. ... 0. 0. 0.]]\n"
     ]
    }
   ],
   "source": [
    "print(tfidf_matrix.toarray())\n"
   ]
  },
  {
   "cell_type": "code",
   "execution_count": 8,
   "metadata": {},
   "outputs": [
    {
     "name": "stdout",
     "output_type": "stream",
     "text": [
      "Document vector length: 50000\n",
      "Non-zero dimensions for document 0: 185\n",
      "Non-zero dimensions for document 1: 60\n",
      "Non-zero dimensions for document 2: 124\n",
      "Non-zero dimensions for document 3: 98\n",
      "Non-zero dimensions for document 4: 137\n"
     ]
    }
   ],
   "source": [
    "print(\"Document vector length:\", tfidf_matrix.shape[1])\n",
    "for i in range(5):\n",
    "    print(\"Non-zero dimensions for document %d: %d\" % (i, len([x for x in tfidf_matrix.toarray()[i] if x > 0])))\n"
   ]
  },
  {
   "cell_type": "code",
   "execution_count": 9,
   "metadata": {},
   "outputs": [
    {
     "name": "stdout",
     "output_type": "stream",
     "text": [
      "Sample word: accompany\n",
      "Occurs in 109 documents\n",
      "out of 9923 documents\n"
     ]
    }
   ],
   "source": [
    "print(\"Sample word:\", features[1000])\n",
    "print(\"Occurs in %d documents\" % len([x for x in tfidf_matrix.toarray()[:][1000] if x > 0]))\n",
    "print(\"out of %d documents\" % len(tfidf_matrix.toarray()))\n"
   ]
  },
  {
   "cell_type": "code",
   "execution_count": 52,
   "metadata": {},
   "outputs": [
    {
     "data": {
      "text/plain": [
       "KMeans(n_clusters=30, random_state=123)"
      ]
     },
     "execution_count": 52,
     "metadata": {},
     "output_type": "execute_result"
    }
   ],
   "source": [
    "matrix_sample = tfidf_matrix[:1000]\n",
    "from sklearn.cluster import KMeans\n",
    "\n",
    "# Do clustering\n",
    "km = KMeans(n_clusters=30, random_state=123, verbose=0)\n",
    "km.fit(matrix_sample)\n"
   ]
  },
  {
   "cell_type": "code",
   "execution_count": 53,
   "metadata": {},
   "outputs": [],
   "source": [
    "import heapq, numpy as np\n",
    "\n",
    "# Custom function to print top keywords for each cluster\n",
    "def print_clusters(matrix, clusters, n_keywords=10):\n",
    "    for cluster in range(min(clusters), max(clusters)+1):\n",
    "        cluster_docs = [i for i, c in enumerate(clusters) if c == cluster]\n",
    "        print(\"Cluster: %d (%d docs)\" % (cluster, len(cluster_docs)))\n",
    "        \n",
    "        # Keep scores for top n terms\n",
    "        new_matrix = np.zeros((len(cluster_docs), matrix.shape[1]))\n",
    "        for cluster_i, doc_vec in enumerate(matrix[cluster_docs].toarray()):\n",
    "            for idx, score in heapq.nlargest(n_keywords, enumerate(doc_vec), key=lambda x:x[1]):\n",
    "                new_matrix[cluster_i][idx] = score\n",
    "\n",
    "        # Aggregate scores for kept top terms\n",
    "        keywords = heapq.nlargest(n_keywords, zip(new_matrix.sum(axis=0), features))\n",
    "        print(', '.join([w for s,w in keywords]))\n",
    "        print()\n"
   ]
  },
  {
   "cell_type": "code",
   "execution_count": 54,
   "metadata": {},
   "outputs": [
    {
     "data": {
      "text/plain": [
       "array([19, 27, 16, 19, 22, 19, 19, 28, 29, 22, 23, 19, 18, 28, 27,  5, 19,\n",
       "        5,  5, 29,  2,  0,  2,  2, 16,  2, 14, 19, 22, 22, 16,  2, 22, 16,\n",
       "        7,  0,  7,  7, 22,  5, 23, 25,  2,  5,  2, 19,  7,  5, 16, 23,  7,\n",
       "        2,  7, 11,  5,  0, 16,  7, 22,  1, 23, 22, 11, 26,  1, 19,  7,  2,\n",
       "        7, 22,  0,  0,  0, 23,  7,  5, 22,  0,  5,  5,  1, 22,  1,  0,  0,\n",
       "       22, 25,  0,  2,  5, 22, 22,  7,  5,  7, 22,  2,  5, 23,  3, 16, 16,\n",
       "       16,  5,  0, 22, 25, 25, 23, 28, 19,  2,  5, 19,  2, 14,  2, 27, 16,\n",
       "        5,  2,  5, 14, 16,  8,  2,  5,  5, 28,  2, 22, 28, 23, 19, 11, 29,\n",
       "        7,  5, 22,  7,  0,  7,  7, 25, 19, 16, 19, 19, 11, 25, 23,  9, 23,\n",
       "        7,  2, 12,  7,  7, 25, 23, 22, 25,  7, 19, 19, 18, 14, 11,  7,  7,\n",
       "       25,  7,  1, 19,  7,  7,  7, 25,  2,  2, 19, 23,  7, 19, 19, 19, 25,\n",
       "        3,  0, 28, 28,  7,  7,  7, 19,  7, 28, 25,  1,  7, 11, 18,  7,  5,\n",
       "       27, 27,  7, 25, 19, 22, 29, 19, 10, 19, 29,  0,  0, 19, 10, 15, 19,\n",
       "       23,  7,  0, 20,  5, 23,  7, 19, 23, 23,  7, 19, 23, 22, 28, 27, 23,\n",
       "        5,  7,  0, 16,  0, 16, 29, 22, 12, 23, 25,  3, 24,  7,  0,  3,  1,\n",
       "        3, 16, 28, 16, 27,  7, 27,  0, 26,  7, 21, 19, 19,  5, 16, 16, 10,\n",
       "       15,  0,  7, 10, 23, 28,  9, 28, 16, 28, 16,  5, 16,  0, 29, 16,  0,\n",
       "       16,  9, 23, 15, 25, 28,  5, 19,  5,  0, 14, 16, 25, 16, 22,  5, 16,\n",
       "       22, 22, 16, 11, 22,  3, 16, 16, 11, 28, 27, 20, 13, 22,  5,  0,  9,\n",
       "       16,  7, 22, 14,  0, 23,  3, 22,  1, 16, 29,  7,  5,  5, 11, 29, 22,\n",
       "       27,  5,  5,  5, 20, 16, 24, 19, 28,  5, 26,  9, 20,  9,  0, 22,  0,\n",
       "        0, 22,  5, 19, 27, 16,  5, 22,  5,  0, 13,  7,  7,  4,  5, 28,  0,\n",
       "       15, 22, 27, 10,  9, 13,  9, 13, 13, 28, 13, 28, 19, 13, 12, 12, 19,\n",
       "       22, 11, 12, 19, 25, 27, 10, 18,  0,  8, 21, 27,  5, 10, 14,  0,  0,\n",
       "       18,  5, 22, 22,  0, 28,  0,  8,  8, 15,  0, 28,  5, 27,  5, 19, 28,\n",
       "        1, 28, 22,  9,  0, 20, 18, 28,  5,  8, 21,  3,  5, 25, 22, 28,  1,\n",
       "       27, 23,  5,  5, 22, 28, 14, 28,  3, 25, 25, 12, 18, 27, 25,  5, 15,\n",
       "       13, 29, 28, 28,  8, 29, 28, 15, 28, 15, 28, 28,  5, 28, 28,  5, 28,\n",
       "       26, 20,  0, 28, 28,  7, 15, 26,  0, 18,  5,  5,  3,  3,  7, 28, 28,\n",
       "       16, 12,  5, 20,  3, 28, 27, 28, 28, 27, 15, 15,  0, 27, 28,  7, 28,\n",
       "       21,  6, 21,  0,  7,  8,  7, 27, 27, 28, 26,  0, 14, 21,  8, 14, 23,\n",
       "       20, 14,  3, 22,  8, 12,  0,  8,  0, 21, 12, 21,  9, 23, 15, 21,  8,\n",
       "       21, 21, 29,  8, 15, 11,  8, 21,  8,  4,  8, 21, 21, 16,  8,  3, 19,\n",
       "        8, 14, 27, 15, 28, 26, 10, 21,  7, 21,  8, 21,  8,  8, 23, 13,  8,\n",
       "        8, 28,  8, 12, 12, 12, 12,  8,  4,  8,  1,  8,  8,  8, 21, 18, 23,\n",
       "        8,  8, 27,  8,  8, 21, 21, 21, 21,  4,  6, 21,  8,  4, 21, 21,  8,\n",
       "        4,  8,  7, 14,  4,  9, 21, 13,  4,  4,  4,  4, 12,  0, 28, 18,  0,\n",
       "       19, 13,  4, 21,  7,  4, 22,  4,  7,  4,  7,  6,  4,  4, 13,  8, 13,\n",
       "        7,  0, 15,  7, 12,  4,  4, 28,  4,  4,  4,  4,  7,  6, 15,  7,  4,\n",
       "        4,  8,  4,  6,  6, 20, 27, 27, 28,  6,  6, 25,  6, 28, 27,  6,  6,\n",
       "       22,  6, 18,  6,  9,  6,  6,  7, 20, 19,  6,  6, 28, 20, 14,  6,  6,\n",
       "        6,  6,  6,  6,  6,  6,  6, 14, 28,  6,  6, 12, 12, 12, 12, 12, 12,\n",
       "       12, 12, 12, 12, 12, 12, 12, 12, 12, 12, 12, 12, 12, 12, 12, 12,  0,\n",
       "       15, 24,  7,  9,  6, 12, 15,  0, 22,  0, 27,  7, 28,  7,  8, 27,  7,\n",
       "       28,  0, 19,  7,  8, 15,  8,  8, 20, 16,  8, 14,  7,  0, 28, 24,  3,\n",
       "        8, 12,  5,  7,  7,  8,  8,  8,  7, 28, 11, 19,  8, 27,  7,  0,  7,\n",
       "       28,  7, 12, 12,  5, 19,  3,  7, 27, 16, 20,  1, 22, 14,  0,  7, 16,\n",
       "       19, 27, 27, 28,  0,  9, 23, 28, 27,  0,  0,  0, 10,  5, 22, 20,  0,\n",
       "       19, 27, 25,  0,  3, 16,  0, 27, 18,  0, 22,  7,  0, 19,  7,  6, 27,\n",
       "        0,  9,  8, 19, 16, 12, 25,  0, 16, 28, 19,  5, 27,  7, 26,  1,  0,\n",
       "       26,  3,  7,  0,  0, 10, 18, 26, 16, 14, 22, 28, 28, 28,  7, 22, 18,\n",
       "        5, 23, 24,  7, 17,  7,  3, 16,  8,  8, 18, 20,  0, 17,  0, 16, 27,\n",
       "       16, 24, 19,  0, 18,  5, 17,  7,  9,  0,  0, 22, 18,  7,  8,  0,  0,\n",
       "       14,  9,  5, 17, 19, 17, 22, 14,  7, 16, 17, 16, 17, 14, 14,  5, 17,\n",
       "        7, 19, 28, 28, 14, 29, 17,  0,  5,  3, 22,  0,  7, 10, 20,  5, 29,\n",
       "       23,  0,  8, 24,  7,  5, 27, 11,  1,  5,  7, 10, 16,  0, 29, 27, 28,\n",
       "        7,  7,  7,  7, 16,  0,  0, 20, 14, 28, 16,  0, 25, 23, 28,  7, 19,\n",
       "        7, 12,  7, 22, 16, 28, 16, 18, 16,  7,  0, 23,  0,  0, 23, 28, 16,\n",
       "       16, 18,  0, 18, 10, 18, 16, 26,  0,  5, 10, 23,  5, 24])"
      ]
     },
     "execution_count": 54,
     "metadata": {},
     "output_type": "execute_result"
    }
   ],
   "source": [
    "km.labels_\n"
   ]
  },
  {
   "cell_type": "code",
   "execution_count": 55,
   "metadata": {},
   "outputs": [
    {
     "name": "stdout",
     "output_type": "stream",
     "text": [
      "Cluster: 0 (88 docs)\n",
      "magnetic, films, quantum, spin, polymer, crystals, superconductors, polarized, superconducting, assembly\n",
      "\n",
      "Cluster: 1 (14 docs)\n",
      "algebras, conformal, graphs, representation, lie, representationtheory, percolation, symmetric, magma, symmetries\n",
      "\n",
      "Cluster: 2 (20 docs)\n",
      "fellowship, training, biology, microbial, fungal, bacterial, bacteria, virulence, foreignlocations, endophytes\n",
      "\n",
      "Cluster: 3 (20 docs)\n",
      "abstract, minkowski, required, resistivity, no, 3d, cardiac, sinkholes, cave, resultants\n",
      "\n",
      "Cluster: 4 (26 docs)\n",
      "fellowship, mathematical, sciences, fellowships, zygotic, zygomycota, zygomycetes, zygmundoperators, zygmund, zworski\n",
      "\n",
      "Cluster: 5 (67 docs)\n",
      "fiber, damage, straightening, repair, grid, polymer, laminar, ultrabroadband, cad, centrifuge\n",
      "\n",
      "Cluster: 6 (30 docs)\n",
      "twenty, dr, archaeological, exotic, co2, amb, native, cells, healing, advective\n",
      "\n",
      "Cluster: 7 (97 docs)\n",
      "equations, manifolds, operators, curvature, equation, harmonic, fluid, einstein, dynamical, hyperbolic\n",
      "\n",
      "Cluster: 8 (52 docs)\n",
      "teachers, mathematics, teacher, college, teaching, modules, school, instructional, workplace, curriculum\n",
      "\n",
      "Cluster: 9 (17 docs)\n",
      "terrorist, attacks, attitudes, wtc, voting, trust, speckle, public, accessibility, coordinating\n",
      "\n",
      "Cluster: 10 (14 docs)\n",
      "energetic, particles, mhd, magnetohydrodynamic, solar, alfven, pulse, waves, ligo, plasma\n",
      "\n",
      "Cluster: 11 (13 docs)\n",
      "arithmetic, elliptic, functions, curves, curve, conjecture, dyer, birch, tangent, zeta\n",
      "\n",
      "Cluster: 12 (43 docs)\n",
      "available, not, zygotic, zygomycota, zygomycetes, zygmundoperators, zygmund, zworski, zurich, zuni\n",
      "\n",
      "Cluster: 13 (13 docs)\n",
      "fellowship, postdoctoral, he, galaxies, andastrophysics, redshift, she, her, astro, slit\n",
      "\n",
      "Cluster: 14 (24 docs)\n",
      "museum, yeara, umebproject, progressmonitored, ofbroadening, breaksand, biology, byengaging, naturalhistory, academicyear\n",
      "\n",
      "Cluster: 15 (19 docs)\n",
      "particle, magnetic, magnetosphere, ring, ions, particlesin, relativistic, compounds, ringcurrent, acceleration\n",
      "\n",
      "Cluster: 16 (56 docs)\n",
      "regression, mantle, seismologists, rna, graph, procedures, wedge, nigms, financial, motion\n",
      "\n",
      "Cluster: 17 (9 docs)\n",
      "crcd, curriculumdevelopment, dame, notre, underthe, pittsburgh, entitled, communications, ut, ethics\n",
      "\n",
      "Cluster: 18 (21 docs)\n",
      "workshop, kdi, aerosol, gaim, ices, texts, carbon, indoex, africa, beirut\n",
      "\n",
      "Cluster: 19 (54 docs)\n",
      "algebraic, algebras, curves, finite, spaces, sheaves, manifolds, topological, topology, algebra\n",
      "\n",
      "Cluster: 20 (17 docs)\n",
      "iron, corrosion, clay, phosphorus, ofreduced, reduced, shales, srb, shale, soils\n",
      "\n",
      "Cluster: 21 (27 docs)\n",
      "colleges, college, manufacturing, industry, technicians, standards, xenon, module, curriculum, technical\n",
      "\n",
      "Cluster: 22 (53 docs)\n",
      "sdp, control, autonomous, nonlinear, linear, printing, nlp, power, matrix, manufacturing\n",
      "\n",
      "Cluster: 23 (34 docs)\n",
      "algebra, algebraic, varieties, commutative, geometry, he, ideals, cohomology, matrices, polynomial\n",
      "\n",
      "Cluster: 24 (8 docs)\n",
      "sediment, floodplain, clinoform, strickland, fly, trapping, thestrickland, floodplains, proportion, damping\n",
      "\n",
      "Cluster: 25 (25 docs)\n",
      "algebras, quantum, operator, subfactors, arsenic, lie, mobilization, spaces, iron, von\n",
      "\n",
      "Cluster: 26 (11 docs)\n",
      "mesoscale, lake, mineralogy, clay, friction, subduction, shear, kona, theup, cmes\n",
      "\n",
      "Cluster: 27 (41 docs)\n",
      "conference, gulf, seminar, symposium, pbo, meeting, rifts, basement, meetings, beingcarried\n",
      "\n",
      "Cluster: 28 (72 docs)\n",
      "contract, china, fellowship, climate, tumors, adolescents, figurines, social, anthracis, biological\n",
      "\n",
      "Cluster: 29 (15 docs)\n",
      "oceanographic, vessel, ship, ships, equipment, operated, nationaloceanographic, researchfleet, vessels, profiler\n",
      "\n"
     ]
    }
   ],
   "source": [
    "print_clusters(matrix_sample, km.labels_)\n"
   ]
  },
  {
   "cell_type": "code",
   "execution_count": 56,
   "metadata": {},
   "outputs": [
    {
     "data": {
      "image/png": "[encoded data removed]",
      "text/plain": [
       "<Figure size 432x288 with 1 Axes>"
      ]
     },
     "metadata": {
      "needs_background": "light"
     },
     "output_type": "display_data"
    }
   ],
   "source": [
    "from scipy.cluster.hierarchy import dendrogram, linkage, fcluster\n",
    "\n",
    "Z = linkage(matrix_sample.todense(), metric='cosine', method='complete')\n",
    "_ = dendrogram(Z, no_labels=True) # Plot dentrogram chart\n"
   ]
  },
  {
   "cell_type": "code",
   "execution_count": 57,
   "metadata": {},
   "outputs": [
    {
     "data": {
      "image/png": "[encoded data removed]",
      "text/plain": [
       "<Figure size 432x288 with 1 Axes>"
      ]
     },
     "metadata": {
      "needs_background": "light"
     },
     "output_type": "display_data"
    }
   ],
   "source": [
    "Z_ = linkage(matrix_sample.todense()[:25], metric='cosine', method='complete')\n",
    "_ = dendrogram(Z_, no_labels=True) # Plot dentrogram chart\n"
   ]
  },
  {
   "cell_type": "code",
   "execution_count": 58,
   "metadata": {},
   "outputs": [
    {
     "name": "stdout",
     "output_type": "stream",
     "text": [
      "Cluster: 1 (2 docs)\n",
      "coral, decadal, ramsay, onoctober, algebraists, researcherswith, tenth, theholocene, seminar, solomon\n",
      "\n",
      "Cluster: 2 (6 docs)\n",
      "wavelet, jet, harmonic, jets, transverse, isotropic, subgrid, piv, frame, controlmethodologies\n",
      "\n",
      "Cluster: 3 (7 docs)\n",
      "bubble, gravitational, plume, envelope, radiation, ligo, inspiral, wave, binaries, star\n",
      "\n",
      "Cluster: 4 (4 docs)\n",
      "straightening, heat, repair, cores, damaged, effectofheat, definethelimiting, basedonexperience, applicationisprimarily, applicationforother\n",
      "\n",
      "Cluster: 5 (13 docs)\n",
      "helium, droplets, superfluid, liquid, 3he, multipole, molecules, atomic, areproposed, turbulence\n",
      "\n",
      "Cluster: 6 (16 docs)\n",
      "workshop, forensic, kdi, pbo, gaim, workshops, awards, lawyers, quebec, npp\n",
      "\n",
      "Cluster: 7 (9 docs)\n",
      "speckle, brain, tumors, ligand, mri, imaging, fmri, neuropeptides, synaptic, pk\n",
      "\n",
      "Cluster: 8 (35 docs)\n",
      "uml, polymer, biology, museum, figurines, yeara, umebproject, progressmonitored, ofbroadening, breaksand\n",
      "\n",
      "Cluster: 9 (15 docs)\n",
      "accessibility, cognition, database, macroeconomics, meetings, multimedia, elderly, ssp, pri, expeditions\n",
      "\n",
      "Cluster: 10 (41 docs)\n",
      "control, sparse, customer, linear, matrices, printing, dense, locomotion, nonlinear, algebra\n",
      "\n",
      "Cluster: 11 (51 docs)\n",
      "composite, parallel, amorphous, grid, ultrabroadband, processing, optical, cad, fiber, diamond\n",
      "\n",
      "Cluster: 12 (18 docs)\n",
      "clay, mineralogy, subduction, shear, dye, friction, deformation, shales, grain, alloys\n",
      "\n",
      "Cluster: 13 (20 docs)\n",
      "films, micro, friction, lubrication, metrology, slip, deposition, lsp, cell, fluid\n",
      "\n",
      "Cluster: 14 (46 docs)\n",
      "magnetic, quantum, superconductors, spin, superconducting, photon, photodissociation, dots, polarized, condensed\n",
      "\n",
      "Cluster: 15 (5 docs)\n",
      "particles, particle, thisapproach, macromolecules, shinbrot, problemthrough, cellularautomata, sheared, separation, flowing\n",
      "\n",
      "Cluster: 16 (7 docs)\n",
      "sediment, floodplain, clinoform, strickland, immiscible, fly, trapping, thestrickland, diffusivity, floodplains\n",
      "\n",
      "Cluster: 17 (6 docs)\n",
      "fuel, xenon, chamber, module, pemfc, ice, fc, logger, amanda, aliquid\n",
      "\n",
      "Cluster: 18 (18 docs)\n",
      "bone, muscle, seismic, cardiac, earthquake, walls, ultrasound, stimulation, damage, stretch\n",
      "\n",
      "Cluster: 19 (12 docs)\n",
      "cmes, solar, wind, cme, coronal, lake, coronagraph, mesoscale, shock, tunnels\n",
      "\n",
      "Cluster: 20 (11 docs)\n",
      "terrorist, attacks, attitudes, wtc, trust, public, polling, september, immigration, polls\n",
      "\n",
      "Cluster: 21 (11 docs)\n",
      "adolescents, tourism, chinese, networks, texts, friendship, newspaper, tourist, beirut, organizational\n",
      "\n",
      "Cluster: 22 (85 docs)\n",
      "algebras, manifolds, conformal, algebraic, lie, curvature, spaces, ergodic, quantum, symmetries\n",
      "\n",
      "Cluster: 23 (16 docs)\n",
      "stark, conjectures, automorphic, forms, arithmetic, howe, infection, virus, screening, perfect\n",
      "\n",
      "Cluster: 24 (42 docs)\n",
      "equations, schrodinger, dynamical, regularity, ampere, singularities, monge, waves, cauchy, pde\n",
      "\n",
      "Cluster: 25 (15 docs)\n",
      "regression, minkowski, sets, estimators, tangent, theory, censored, curves, analogy, norm\n",
      "\n",
      "Cluster: 26 (9 docs)\n",
      "quantum, classification, he, redundant, perceptrons, image, approximation, tcs, dm, theclassification\n",
      "\n",
      "Cluster: 27 (13 docs)\n",
      "script, cyclogenesis, kona, lows, nova, tiwanaku, tropical, valley, peoples, car\n",
      "\n",
      "Cluster: 28 (1 docs)\n",
      "anthracis, bacillus, outbreak, thenbe, quest, anthrax, sequence, strains, genomic, florida\n",
      "\n",
      "Cluster: 29 (8 docs)\n",
      "sensor, rehabilitation, vr, ankle, emergencies, diagnostic, rc, assets, retrofit, integrity\n",
      "\n",
      "Cluster: 30 (5 docs)\n",
      "chile, universidad, visit, carlos, brazil, inpe, rankin, estadual, dunn, thisplanning\n",
      "\n",
      "Cluster: 31 (5 docs)\n",
      "voting, circuits, asu, telecommunication, universityrequests, advancement, grad, ballot, uthe, resultshave\n",
      "\n",
      "Cluster: 32 (9 docs)\n",
      "asymmetric, catalytic, ions, heteroatom, bonds, carbon, membered, aromaticity, phthalocyanines, phosphorus\n",
      "\n",
      "Cluster: 33 (13 docs)\n",
      "instrument, isotope, canopy, microscope, stable, ecosystems, japan, ecosystemecology, fatty, macromolecules\n",
      "\n",
      "Cluster: 34 (13 docs)\n",
      "conference, speakers, mg2, nanotechnology, clinicians, lasers, theconference, japan, panel, lecture\n",
      "\n",
      "Cluster: 35 (13 docs)\n",
      "oceanographic, vessel, ship, ships, equipment, operated, nationaloceanographic, researchfleet, vessels, profiler\n",
      "\n",
      "Cluster: 36 (6 docs)\n",
      "collider, neutrinos, detector, babar, quark, fermilab, rsvp, cp, accident, neutrino\n",
      "\n",
      "Cluster: 37 (17 docs)\n",
      "climate, madagascar, aerosol, ices, lemurs, indoex, pacific, bison, globec, global\n",
      "\n",
      "Cluster: 38 (4 docs)\n",
      "laminar, table, centrifuge, box, nied, 1g, shaking, rpi, pile, ucsd\n",
      "\n",
      "Cluster: 39 (5 docs)\n",
      "resistivity, 3d, sinkholes, cave, cheat, magma, cheating, 2d, ridge, void\n",
      "\n",
      "Cluster: 40 (18 docs)\n",
      "crcd, curriculumdevelopment, dame, notre, underthe, pittsburgh, entitled, communications, mexico, ut\n",
      "\n",
      "Cluster: 41 (5 docs)\n",
      "czech, branes, string, homotopy, phenomenology, cytokinins, cosmology, spain, vanadium, gt\n",
      "\n",
      "Cluster: 42 (12 docs)\n",
      "assistive, disabilities, designprojects, bio, curriculum, needs, wyoming, xp, smart, tcu\n",
      "\n",
      "Cluster: 43 (3 docs)\n",
      "abstract, required, no, soap, morgan, baldwin, universe, hrushovski, thetechnique, universes\n",
      "\n",
      "Cluster: 44 (39 docs)\n",
      "algebraic, algebra, varieties, commutative, curves, geometry, spaces, hilbert, ideals, galois\n",
      "\n",
      "Cluster: 45 (94 docs)\n",
      "fellowship, mathematical, sciences, postdoctoral, training, twenty, dr, biology, microbial, he\n",
      "\n",
      "Cluster: 46 (44 docs)\n",
      "available, not, unit, prosthesis, asensor, nrl, implantable, implantation, darpa, retinal\n",
      "\n",
      "Cluster: 47 (7 docs)\n",
      "arc, gulf, mantle, thesubduction, wedge, rifts, basement, beingcarried, tectonically, khz\n",
      "\n",
      "Cluster: 48 (13 docs)\n",
      "magnetosphere, magnetic, particle, ionosphere, auroral, relativistic, ring, ions, ringcurrent, mhd\n",
      "\n",
      "Cluster: 49 (6 docs)\n",
      "china, qing, modernity, political, men, government, governmentthis, democratic, kennedy, executives\n",
      "\n",
      "Cluster: 50 (8 docs)\n",
      "indigenous, town, women, magazine, lactation, janice, aspray, pilot, divisions, cs\n",
      "\n",
      "Cluster: 51 (17 docs)\n",
      "sdp, resultants, nlp, matrix, polynomial, ip, polynomials, linear, var, problemswhile\n",
      "\n",
      "Cluster: 52 (2 docs)\n",
      "plasma, pulse, laser, sra, semiconductor, fs, amplification, tuning, discharge, clean\n",
      "\n",
      "Cluster: 53 (9 docs)\n",
      "iron, arsenic, corrosion, phosphorus, mobilization, sediments, ofreduced, timescales, perfluorinated, reduced\n",
      "\n",
      "Cluster: 54 (11 docs)\n",
      "symposium, children, library, 28th, wise, melbourne, representation, seminar, meeting, vancouver\n",
      "\n",
      "Cluster: 55 (68 docs)\n",
      "teachers, college, colleges, mathematics, teacher, alliance, teaching, manufacturing, curriculum, technical\n",
      "\n",
      "Cluster: 56 (11 docs)\n",
      "fellowships, mathematical, sciences, nigms, rna, genes, ribozymes, antisense, rnas, nigmsinitiative\n",
      "\n",
      "Cluster: 57 (1 docs)\n",
      "contract, zygotic, zygomycota, zygomycetes, zygmundoperators, zygmund, zworski, zurich, zuni, zro2\n",
      "\n"
     ]
    }
   ],
   "source": [
    "clusters = fcluster(Z, 0.99, criterion='distance') # Create flat clusters by distance threshold\n",
    "\n",
    "print_clusters(matrix_sample, clusters)\n"
   ]
  },
  {
   "cell_type": "code",
   "execution_count": 60,
   "metadata": {},
   "outputs": [
    {
     "name": "stdout",
     "output_type": "stream",
     "text": [
      "Similar terms to: accompany\n"
     ]
    },
    {
     "data": {
      "text/plain": [
       "[(1.0, 'accompany'),\n",
       " (0.3489035084703193, 'brochure'),\n",
       " (0.271665382200952, 'useindicators'),\n",
       " (0.271665382200952, 'socialdemographics'),\n",
       " (0.271665382200952, 'shiftsthe'),\n",
       " (0.271665382200952, 'scientificmeasurement'),\n",
       " (0.271665382200952, 'ofsustainable'),\n",
       " (0.271665382200952, 'internationalorganizations'),\n",
       " (0.271665382200952, 'humaninstitutions'),\n",
       " (0.271665382200952, 'grapple')]"
      ]
     },
     "execution_count": 60,
     "metadata": {},
     "output_type": "execute_result"
    }
   ],
   "source": [
    "from sklearn.metrics.pairwise import cosine_similarity\n",
    "\n",
    "term_index = 1000\n",
    "print(\"Similar terms to:\", features[term_index])\n",
    "# Get most similar terms according to the cosine similarity of their vectors (columns in the term-document matrix)\n",
    "heapq.nlargest(10, zip(cosine_similarity(tfidf_matrix[:,term_index].todense().T, tfidf_matrix.todense().T)[0], features))\n"
   ]
  },
  {
   "cell_type": "code",
   "execution_count": null,
   "metadata": {},
   "outputs": [],
   "source": []
  }
 ],
 "metadata": {
  "kernelspec": {
   "display_name": "Python 3",
   "language": "python",
   "name": "python3"
  },
  "language_info": {
   "codemirror_mode": {
    "name": "ipython",
    "version": 3
   },
   "file_extension": ".py",
   "mimetype": "text/x-python",
   "name": "python",
   "nbconvert_exporter": "python",
   "pygments_lexer": "ipython3",
   "version": "3.8.3"
  }
 },
 "nbformat": 4,
 "nbformat_minor": 4
}
