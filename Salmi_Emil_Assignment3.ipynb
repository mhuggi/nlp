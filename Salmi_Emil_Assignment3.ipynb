{
 "cells": [
  {
   "cell_type": "code",
   "execution_count": 2,
   "metadata": {},
   "outputs": [],
   "source": [
    "# Extract correct dataset\n",
    "from zipfile import ZipFile\n",
    "\n",
    "abst = ZipFile('abstracts.zip')\n",
    "\n",
    "for file in abst.namelist():\n",
    "    if file.startswith('abstracts/awards_2002/'):\n",
    "        abst.extract(file)\n"
   ]
  },
  {
   "cell_type": "code",
   "execution_count": 3,
   "metadata": {},
   "outputs": [],
   "source": [
    "# Extracts abstracts from documents\n",
    "import os\n",
    "\n",
    "rootdir = 'abstracts/awards_2002'\n",
    "documents = []\n",
    "\n",
    "for sdir, dirs, files in os.walk(rootdir):\n",
    "    for file in files:\n",
    "        with open(os.path.join(sdir,file), \"rt\", encoding=\"unicode_escape\") as f:\n",
    "            documents.append([line.strip() for line in f.readlines()])\n",
    "            \n",
    "abstracts = []\n",
    "for d in documents:\n",
    "    s = \"\"\n",
    "    for i, t in enumerate(d):\n",
    "        if \"Abstract\" in t:\n",
    "            for t in d[i+1:]:\n",
    "                s += t\n",
    "                \n",
    "    abstracts.append(s)\n"
   ]
  },
  {
   "cell_type": "code",
   "execution_count": 19,
   "metadata": {},
   "outputs": [
    {
     "data": {
      "text/plain": [
       "(9923, 50000)"
      ]
     },
     "execution_count": 19,
     "metadata": {},
     "output_type": "execute_result"
    }
   ],
   "source": [
    "from sklearn.feature_extraction.text import TfidfVectorizer\n",
    "\n",
    "# Set parameters and initialize\n",
    "tfidf_vectorizer = TfidfVectorizer(min_df=2, use_idf=True, sublinear_tf=True, max_df=0.8, max_features=50000)\n",
    "\n",
    "# Calcualate term-document matrix with tf-idf scores\n",
    "tfidf_matrix = tfidf_vectorizer.fit_transform(abstracts)\n",
    "\n",
    "# Check matrix shape\n",
    "tfidf_matrix.toarray().shape # N_docs x N_terms\n"
   ]
  },
  {
   "cell_type": "code",
   "execution_count": 20,
   "metadata": {},
   "outputs": [
    {
     "name": "stdout",
     "output_type": "stream",
     "text": [
      "['00', '000', '0000', '0001', '000and', '000events', '000front', '000l', '000species', '000to']\n",
      "['zr', 'zro2', 'zuni', 'zurich', 'zworski', 'zygmund', 'zygmundoperators', 'zygomycetes', 'zygomycota', 'zygotic']\n"
     ]
    }
   ],
   "source": [
    "print(tfidf_vectorizer.get_feature_names()[:10])\n",
    "print(tfidf_vectorizer.get_feature_names()[-10:])\n"
   ]
  },
  {
   "cell_type": "code",
   "execution_count": 21,
   "metadata": {},
   "outputs": [
    {
     "data": {
      "text/plain": [
       "array([[0.],\n",
       "       [0.],\n",
       "       [0.],\n",
       "       ...,\n",
       "       [0.],\n",
       "       [0.],\n",
       "       [0.]])"
      ]
     },
     "execution_count": 21,
     "metadata": {},
     "output_type": "execute_result"
    }
   ],
   "source": [
    "tfidf_matrix[:,tfidf_vectorizer.get_feature_names().index('record')].toarray() # Get doc vector for term\n"
   ]
  },
  {
   "cell_type": "code",
   "execution_count": 22,
   "metadata": {},
   "outputs": [
    {
     "name": "stdout",
     "output_type": "stream",
     "text": [
      "7238\tbe\n",
      "6988\ton\n",
      "6814\twith\n",
      "6758\tthat\n",
      "6220\tare\n",
      "6195\tresearch\n",
      "6115\tas\n",
      "6101\tby\n",
      "5505\tfrom\n",
      "5160\tan\n",
      "5022\tproject\n",
      "5006\tat\n",
      "4810\tthese\n",
      "3836\thave\n",
      "3734\twhich\n",
      "3543\tit\n",
      "3509\tnew\n",
      "3427\tor\n",
      "3293\thas\n",
      "3283\tsuch\n"
     ]
    }
   ],
   "source": [
    "from collections import Counter\n",
    "terms_in_docs = tfidf_vectorizer.inverse_transform(tfidf_matrix)\n",
    "token_counter = Counter()\n",
    "for terms in terms_in_docs:\n",
    "    token_counter.update(terms)\n",
    "\n",
    "for term, count in token_counter.most_common(20):\n",
    "    print(\"%d\\t%s\" % (count, term))\n"
   ]
  },
  {
   "cell_type": "code",
   "execution_count": 23,
   "metadata": {},
   "outputs": [
    {
     "name": "stdout",
     "output_type": "stream",
     "text": [
      "\n",
      "Document 0, top terms by TF-IDF\n",
      "0.28\tchow\n",
      "0.16\thodge\n",
      "0.15\talgebraic\n",
      "0.14\tsubgroup\n",
      "0.14\tabelian\n",
      "\n",
      "Document 1, top terms by TF-IDF\n",
      "0.24\tcareersin\n",
      "0.24\tfriendships\n",
      "0.22\tcultivating\n",
      "0.22\tinterestto\n",
      "0.21\tethnically\n",
      "\n",
      "Document 2, top terms by TF-IDF\n",
      "0.24\tupdating\n",
      "0.16\tanddamped\n",
      "0.16\tsimulationmodels\n",
      "0.15\tsecondly\n",
      "0.14\tinvolveundergraduates\n",
      "\n",
      "Document 3, top terms by TF-IDF\n",
      "0.18\ttheconference\n",
      "0.17\tcomputations\n",
      "0.16\tconference\n",
      "0.16\talgebraicobjects\n",
      "0.16\tandcomputerscientists\n",
      "\n",
      "Document 4, top terms by TF-IDF\n",
      "0.18\tpreferences\n",
      "0.17\tmarketing\n",
      "0.16\tselection\n",
      "0.16\trobust\n",
      "0.15\tproduct\n"
     ]
    }
   ],
   "source": [
    "features = tfidf_vectorizer.get_feature_names()\n",
    "for doc_i in range(5):\n",
    "    print(\"\\nDocument %d, top terms by TF-IDF\" % doc_i)\n",
    "    for term, score in sorted(list(zip(features,tfidf_matrix.toarray()[doc_i])), key=lambda x:-x[1])[:5]:\n",
    "        print(\"%.2f\\t%s\" % (score, term))\n"
   ]
  },
  {
   "cell_type": "code",
   "execution_count": 24,
   "metadata": {},
   "outputs": [
    {
     "name": "stdout",
     "output_type": "stream",
     "text": [
      "[[0. 0. 0. ... 0. 0. 0.]\n",
      " [0. 0. 0. ... 0. 0. 0.]\n",
      " [0. 0. 0. ... 0. 0. 0.]\n",
      " ...\n",
      " [0. 0. 0. ... 0. 0. 0.]\n",
      " [0. 0. 0. ... 0. 0. 0.]\n",
      " [0. 0. 0. ... 0. 0. 0.]]\n"
     ]
    }
   ],
   "source": [
    "print(tfidf_matrix.toarray())\n"
   ]
  },
  {
   "cell_type": "code",
   "execution_count": 25,
   "metadata": {},
   "outputs": [
    {
     "name": "stdout",
     "output_type": "stream",
     "text": [
      "Document vector length: 50000\n",
      "Non-zero dimensions for document 0: 185\n",
      "Non-zero dimensions for document 1: 60\n",
      "Non-zero dimensions for document 2: 124\n",
      "Non-zero dimensions for document 3: 98\n",
      "Non-zero dimensions for document 4: 137\n"
     ]
    }
   ],
   "source": [
    "print(\"Document vector length:\", tfidf_matrix.shape[1])\n",
    "for i in range(5):\n",
    "    print(\"Non-zero dimensions for document %d: %d\" % (i, len([x for x in tfidf_matrix.toarray()[i] if x > 0])))\n"
   ]
  },
  {
   "cell_type": "code",
   "execution_count": 26,
   "metadata": {},
   "outputs": [
    {
     "name": "stdout",
     "output_type": "stream",
     "text": [
      "Sample word: accompany\n",
      "Occurs in 109 documents\n",
      "out of 9923 documents\n"
     ]
    }
   ],
   "source": [
    "print(\"Sample word:\", features[1000])\n",
    "print(\"Occurs in %d documents\" % len([x for x in tfidf_matrix.toarray()[:][1000] if x > 0]))\n",
    "print(\"out of %d documents\" % len(tfidf_matrix.toarray()))\n"
   ]
  },
  {
   "cell_type": "code",
   "execution_count": 55,
   "metadata": {},
   "outputs": [
    {
     "data": {
      "text/plain": [
       "KMeans(n_clusters=50, random_state=123)"
      ]
     },
     "execution_count": 55,
     "metadata": {},
     "output_type": "execute_result"
    }
   ],
   "source": [
    "matrix_sample = tfidf_matrix[:1000]\n",
    "from sklearn.cluster import KMeans\n",
    "\n",
    "# Do clustering\n",
    "km = KMeans(n_clusters=50, random_state=123, verbose=0)\n",
    "km.fit(matrix_sample)\n"
   ]
  },
  {
   "cell_type": "code",
   "execution_count": 56,
   "metadata": {},
   "outputs": [],
   "source": [
    "import heapq, numpy as np\n",
    "\n",
    "# Custom function to print top keywords for each cluster\n",
    "def print_clusters(matrix, clusters, n_keywords=10):\n",
    "    for cluster in range(min(clusters), max(clusters)+1):\n",
    "        cluster_docs = [i for i, c in enumerate(clusters) if c == cluster]\n",
    "        print(\"Cluster: %d (%d docs)\" % (cluster, len(cluster_docs)))\n",
    "        \n",
    "        # Keep scores for top n terms\n",
    "        new_matrix = np.zeros((len(cluster_docs), matrix.shape[1]))\n",
    "        for cluster_i, doc_vec in enumerate(matrix[cluster_docs].toarray()):\n",
    "            for idx, score in heapq.nlargest(n_keywords, enumerate(doc_vec), key=lambda x:x[1]):\n",
    "                new_matrix[cluster_i][idx] = score\n",
    "\n",
    "        # Aggregate scores for kept top terms\n",
    "        keywords = heapq.nlargest(n_keywords, zip(new_matrix.sum(axis=0), features))\n",
    "        print(', '.join([w for s,w in keywords]))\n",
    "        print()\n"
   ]
  },
  {
   "cell_type": "code",
   "execution_count": 57,
   "metadata": {},
   "outputs": [
    {
     "data": {
      "text/plain": [
       "array([30, 34,  5, 46, 40, 30, 15, 39, 27,  1, 19, 15, 47, 35, 22, 20,  5,\n",
       "       18, 25,  8, 23, 13, 23, 23,  5, 23, 25, 30, 26,  7, 26, 23, 41, 42,\n",
       "        5,  6,  5,  5,  5, 29, 19, 15, 23, 18, 23, 35, 26, 35, 40, 46,  5,\n",
       "       23,  5, 14, 22, 13, 22,  5, 18, 15, 30, 35, 14, 38, 15, 30,  5, 23,\n",
       "       26,  1, 35, 40, 18, 19,  5, 47, 35, 41, 43, 45, 42,  5, 19, 35, 35,\n",
       "        5, 35, 40, 23, 47, 18, 40,  5, 18,  5,  1, 23, 35, 19, 35, 40, 12,\n",
       "       26, 41, 35,  5, 15, 40, 19, 40, 42, 23, 16, 30, 23, 40, 23, 34, 30,\n",
       "       22, 23, 47, 18, 40, 20, 23, 47, 22, 39, 23,  3, 45, 19, 15, 14, 27,\n",
       "       30, 45,  5,  5, 40,  5,  5, 15, 36, 42, 46, 19, 46,  5, 15, 16, 19,\n",
       "        5, 23,  2,  5,  5, 36, 30, 16, 30,  5, 42, 15, 39, 40, 46,  5, 11,\n",
       "       15,  5, 42,  5, 45,  5,  5, 19, 23, 23, 11, 19,  5, 30, 19, 19, 19,\n",
       "        5, 45, 39, 19,  5,  5,  1, 19,  3, 16, 15, 15,  5, 46, 40,  5, 30,\n",
       "       34, 16,  5, 11, 30,  7,  8, 41, 49, 15, 27, 18, 13, 15, 45, 12, 42,\n",
       "       19,  5, 18, 39, 45, 30,  5, 30, 19, 19, 46, 30, 19, 45, 44, 40, 19,\n",
       "       47,  5, 45, 40, 45, 37, 27, 39,  2, 19,  3, 45, 35, 40, 40, 41, 15,\n",
       "       41, 43, 40, 22, 34, 41, 34, 13, 38,  5, 20, 46,  5,  5,  5,  1, 41,\n",
       "       12, 18, 15, 12, 30, 49, 10, 40, 40, 39, 18, 22, 41, 35, 27,  5, 13,\n",
       "       22, 10, 46, 12,  7, 39,  3, 46, 18, 18, 22, 40, 19, 48, 25, 41, 41,\n",
       "       38,  6, 42, 46,  5, 26,  3,  7, 37,  0, 40, 37,  9, 35, 16, 38, 39,\n",
       "       47,  5, 40,  0, 24, 30, 46,  6, 46, 18, 27,  5,  7, 41, 42,  8,  5,\n",
       "       22, 22, 47, 22, 37, 18, 47, 46, 39, 22, 38, 10, 37, 10, 13, 38, 47,\n",
       "       45,  7, 22, 42, 22, 15, 35, 13, 47, 13,  9,  5,  5, 28, 22,  3, 40,\n",
       "       43, 18, 34, 44, 10,  9, 10,  9,  9, 39,  9, 33,  3,  9,  2,  2, 11,\n",
       "       43, 14,  2, 36, 39, 40, 44,  0, 45, 20, 45, 34, 47, 45, 40, 18, 45,\n",
       "       16, 40, 18, 47,  7, 39,  6,  4, 20, 12, 45, 39, 47, 34, 22, 30, 39,\n",
       "       15, 43, 18, 47,  3, 48, 34, 39, 40, 18, 20, 43, 43, 32, 45,  5, 11,\n",
       "       34, 19,  3, 18, 40, 39, 40, 39, 43, 32, 11,  2, 39, 34, 45, 47, 32,\n",
       "        9, 27, 39, 33,  4, 27, 16, 12, 33, 12, 39, 33,  7, 39, 36, 40, 40,\n",
       "       38, 48,  7, 22, 39,  5, 30, 38, 48, 16,  1,  1, 16, 40, 37, 39, 40,\n",
       "       40,  2,  5, 17, 40, 39, 34, 39, 39, 34, 12, 12, 45, 34, 40, 36, 16,\n",
       "       20, 17, 20, 18,  5, 20, 11, 34, 34,  0, 38,  7,  4, 20, 20, 40, 19,\n",
       "       48, 20, 30, 45,  4,  2, 45, 20, 40,  4,  2, 20, 16, 19, 44, 20,  4,\n",
       "       20,  4,  8,  4, 12, 46,  4,  4, 20, 28, 20, 20, 20, 42, 20, 40, 15,\n",
       "       20, 25, 34, 44, 40, 38, 44, 20,  5,  4,  4, 20,  4,  4, 19,  9,  4,\n",
       "       20, 33,  4,  2,  2,  2,  2,  4, 28, 20, 11, 20,  4,  4,  4, 34, 19,\n",
       "       20,  4, 34, 20,  4,  4, 20,  4, 20, 28, 17,  4,  4, 28, 20,  4, 20,\n",
       "       28,  4,  5, 20, 28, 10,  4,  9, 28, 28, 28, 28,  2, 24, 39, 39,  6,\n",
       "       36,  9, 28, 20,  3, 21, 35, 28,  5, 28, 36, 17, 28, 28,  9, 20,  9,\n",
       "        3,  7, 48, 36,  2, 28, 28, 39, 21, 28, 28, 28, 45, 17, 12,  5, 28,\n",
       "       28,  4, 28, 17, 17, 17, 34, 34, 10, 17, 17, 15, 17, 33, 40, 17, 17,\n",
       "       40, 17, 40, 17, 10, 17, 17,  5, 17, 44, 17, 17, 39, 17, 25, 17, 17,\n",
       "       17, 17, 17, 17, 17, 17, 17, 40, 16, 17, 17,  2,  2,  2,  2,  2,  2,\n",
       "        2,  2,  2,  2,  2,  2,  2,  2,  2,  2,  2,  2,  2,  2,  2,  2, 45,\n",
       "       47, 35,  3, 16, 17,  2, 12,  7, 40, 18, 34,  5, 40,  5,  4, 11, 46,\n",
       "       39, 18, 36,  5,  4, 22,  4,  4, 29,  1,  4, 25,  5, 45, 39, 24, 30,\n",
       "        4,  2, 19,  5,  5,  4,  4,  4,  5, 40, 14, 14,  4, 34,  5,  7,  5,\n",
       "       39,  5,  2,  2,  7, 36, 41,  5, 34, 40, 49, 42,  6, 25, 47,  5, 48,\n",
       "       36, 13, 34, 16, 30, 10, 19, 39, 34, 41, 49,  7, 30, 40, 47, 37, 45,\n",
       "       46, 40, 11, 45, 18, 43, 12, 16, 16, 13, 40,  5, 13, 36,  5, 17, 34,\n",
       "       18, 40,  4, 46,  1,  2, 19, 13,  1, 33, 36, 46, 34, 20, 49, 43, 18,\n",
       "       38, 42,  1, 45, 18, 49, 39, 24, 20, 25,  5, 33, 33, 40,  5, 47, 39,\n",
       "       40, 20, 29,  3, 31,  5, 30,  1, 20,  4, 16, 24,  7, 31, 45, 44, 20,\n",
       "       24, 29, 42,  6, 35, 46, 31,  5, 16, 35,  7,  5, 24, 36, 40, 12, 18,\n",
       "       25,  1, 35, 31, 36, 31, 47, 25,  5, 20, 31, 16, 31, 25, 25, 40, 31,\n",
       "       36, 46, 39, 49,  4, 27, 31, 13, 40,  5, 40, 13,  3, 45, 40, 41, 22,\n",
       "       30,  6, 16, 29, 46, 40, 15, 46, 45,  1, 11, 35, 24, 13, 27, 20, 39,\n",
       "        5,  5,  4, 36, 24, 18, 18, 40, 20, 24,  1,  7, 11, 30, 40, 36, 36,\n",
       "        5,  2,  5, 47,  1, 39, 42, 49,  1, 30, 13, 19, 13, 13, 11, 39,  1,\n",
       "       46, 16,  7, 40, 47, 40,  1, 24,  7, 40, 49, 19, 40, 44])"
      ]
     },
     "execution_count": 57,
     "metadata": {},
     "output_type": "execute_result"
    }
   ],
   "source": [
    "km.labels_\n"
   ]
  },
  {
   "cell_type": "code",
   "execution_count": 58,
   "metadata": {},
   "outputs": [
    {
     "name": "stdout",
     "output_type": "stream",
     "text": [
      "Cluster: 0 (4 docs)\n",
      "town, texts, organizational, metropolitan, divisions, coders, theseanalyses, commons, isomorphism, andhuman\n",
      "\n",
      "Cluster: 1 (19 docs)\n",
      "regression, sequential, parallel, sdp, inference, bayesian, smoothing, accessibility, elderly, wavelet\n",
      "\n",
      "Cluster: 2 (43 docs)\n",
      "available, not, zygotic, zygomycota, zygomycetes, zygmundoperators, zygmund, zworski, zurich, zuni\n",
      "\n",
      "Cluster: 3 (14 docs)\n",
      "jets, transverse, jet, convection, fluid, controlmethodologies, cf, technologythis, samples, immiscible\n",
      "\n",
      "Cluster: 4 (44 docs)\n",
      "teachers, teacher, mathematics, technicians, instructional, college, school, magazine, standards, teaching\n",
      "\n",
      "Cluster: 5 (86 docs)\n",
      "equations, operators, equation, ergodic, harmonic, manifolds, hyperbolic, elliptic, theorems, smooth\n",
      "\n",
      "Cluster: 6 (8 docs)\n",
      "spin, polarized, magnetic, mse, power, ldl, fc, willcomplement, junctions, multilayers\n",
      "\n",
      "Cluster: 7 (20 docs)\n",
      "quantum, resonance, magnetic, dots, rsvp, electrons, coherent, semiconductor, macroscopic, photodissociation\n",
      "\n",
      "Cluster: 8 (4 docs)\n",
      "equipment, shipboard, satellite, itemsas, institutionto, asmotorized, andinstallation, ecosystemecology, isotope, institutionsin\n",
      "\n",
      "Cluster: 9 (13 docs)\n",
      "fellowship, postdoctoral, he, galaxies, andastrophysics, redshift, she, her, astro, slit\n",
      "\n",
      "Cluster: 10 (10 docs)\n",
      "terrorist, attitudes, attacks, voting, trust, public, polling, september, immigration, polls\n",
      "\n",
      "Cluster: 11 (13 docs)\n",
      "manifolds, quantum, topology, conformal, invariants, lie, mathematical, heegaard, geometry, floer\n",
      "\n",
      "Cluster: 12 (15 docs)\n",
      "particle, ring, magnetic, ions, magnetosphere, relativistic, ringcurrent, itsassociated, particlesin, theinner\n",
      "\n",
      "Cluster: 13 (18 docs)\n",
      "superconductors, superconducting, atomic, magnetic, condensed, superconductivity, superconductor, multipole, ce, areproposed\n",
      "\n",
      "Cluster: 14 (6 docs)\n",
      "arithmetic, functions, automorphic, modular, carleson, burns, analogues, stark, conjecture, stein\n",
      "\n",
      "Cluster: 15 (22 docs)\n",
      "algebras, lie, symmetries, representation, subfactors, quantum, operator, string, representationtheory, sheaves\n",
      "\n",
      "Cluster: 16 (22 docs)\n",
      "workshop, wtc, government, gaim, networking, pilot, newspaper, beirut, pemfc, infrastructure\n",
      "\n",
      "Cluster: 17 (34 docs)\n",
      "twenty, dr, co2, archaeological, exotic, soil, amb, native, cells, healing\n",
      "\n",
      "Cluster: 18 (31 docs)\n",
      "polymer, films, printing, ceramic, amorphous, crystals, color, lam, deposition, moleculeswith\n",
      "\n",
      "Cluster: 19 (33 docs)\n",
      "algebraic, algebra, algebras, commutative, ideals, geometry, polytopes, cohomology, homology, closure\n",
      "\n",
      "Cluster: 20 (44 docs)\n",
      "colleges, college, manufacturing, curriculum, center, industry, alliance, curricula, technical, asymmetries\n",
      "\n",
      "Cluster: 21 (2 docs)\n",
      "fellowships, mathematical, sciences, zygotic, zygomycota, zygomycetes, zygmundoperators, zygmund, zworski, zurich\n",
      "\n",
      "Cluster: 22 (20 docs)\n",
      "seismic, straightening, earthquake, laminar, centrifuge, pbo, repair, box, nied, walls\n",
      "\n",
      "Cluster: 23 (20 docs)\n",
      "fellowship, training, biology, microbial, fungal, bacterial, bacteria, virulence, foreignlocations, endophytes\n",
      "\n",
      "Cluster: 24 (11 docs)\n",
      "subduction, friction, clay, mineralogy, arc, mantle, thesubduction, wedge, costa, shear\n",
      "\n",
      "Cluster: 25 (12 docs)\n",
      "museum, yeara, umebproject, progressmonitored, ofbroadening, breaksand, biology, byengaging, naturalhistory, academicyear\n",
      "\n",
      "Cluster: 26 (6 docs)\n",
      "lift, production, sherali, schrijver, lasserre, hypercube, disjunctiveprogramming, disjunction, deepercutting, cornuejols\n",
      "\n",
      "Cluster: 27 (10 docs)\n",
      "oceanographic, vessel, ship, ships, operated, nationaloceanographic, researchfleet, vessels, profiler, barnes\n",
      "\n",
      "Cluster: 28 (24 docs)\n",
      "fellowship, mathematical, sciences, zygotic, zygomycota, zygomycetes, zygmundoperators, zygmund, zworski, zurich\n",
      "\n",
      "Cluster: 29 (5 docs)\n",
      "sediment, floodplain, clinoform, strickland, fly, trapping, thestrickland, outage, floodplains, proportion\n",
      "\n",
      "Cluster: 30 (28 docs)\n",
      "varieties, algebra, moduli, algebraic, curves, spaces, matrices, hilbert, abelian, riemann\n",
      "\n",
      "Cluster: 31 (9 docs)\n",
      "crcd, curriculumdevelopment, dame, notre, underthe, pittsburgh, entitled, communications, ut, ethics\n",
      "\n",
      "Cluster: 32 (3 docs)\n",
      "arsenic, mobilization, iron, sediments, timescales, perfluorinated, controlledby, groundwaters, oxyhydroxides, thesubject\n",
      "\n",
      "Cluster: 33 (9 docs)\n",
      "tiwanaku, valley, peoples, figurines, ties, household, archaeological, groves, verde, theweak\n",
      "\n",
      "Cluster: 34 (28 docs)\n",
      "conference, kdi, seminar, meeting, meetings, workshop, mg2, nanotechnology, indigenous, children\n",
      "\n",
      "Cluster: 35 (22 docs)\n",
      "optical, ultrabroadband, delay, fiber, wavelength, laser, semiconductor, pulse, tuning, photonic\n",
      "\n",
      "Cluster: 36 (19 docs)\n",
      "manifolds, curvature, einstein, topological, riemannian, metrics, spaces, embeddings, tourist, manifold\n",
      "\n",
      "Cluster: 37 (7 docs)\n",
      "shales, shale, landslides, clay, clays, vibrations, pierre, cable, micromorphology, table\n",
      "\n",
      "Cluster: 38 (11 docs)\n",
      "mesoscale, lake, bands, kona, lows, plume, classic, bubble, effect, synoptic\n",
      "\n",
      "Cluster: 39 (41 docs)\n",
      "china, climate, adolescents, land, aerosol, fire, ices, friendship, cheat, season\n",
      "\n",
      "Cluster: 40 (67 docs)\n",
      "contract, informatics, biological, abstract, japan, nigms, autonomous, required, cad, instrument\n",
      "\n",
      "Cluster: 41 (15 docs)\n",
      "void, resistivity, metallic, sinkholes, cave, voids, md, 2d, failures, silicon\n",
      "\n",
      "Cluster: 42 (15 docs)\n",
      "graphs, random, graph, speckle, theory, walks, abstractmathematical, integrals, probability, perfect\n",
      "\n",
      "Cluster: 43 (10 docs)\n",
      "cardiac, 3d, ankle, ultrasound, muscle, magma, vr, breast, 4d, malignant\n",
      "\n",
      "Cluster: 44 (9 docs)\n",
      "auroral, magnetosphere, mhd, ionosphere, magnetohydrodynamic, magneticsubstorms, alfven, equilibrium, energetic, diffusivity\n",
      "\n",
      "Cluster: 45 (31 docs)\n",
      "helium, superfluid, molecules, droplets, xenon, clusters, atoms, chamber, 3he, carol\n",
      "\n",
      "Cluster: 46 (24 docs)\n",
      "curves, algebraic, galois, curve, elliptic, correcting, tangent, plane, cryptography, homotopy\n",
      "\n",
      "Cluster: 47 (23 docs)\n",
      "strain, sdp, nlp, deformation, matrix, uml, mechanical, ip, nanocomposites, grain\n",
      "\n",
      "Cluster: 48 (7 docs)\n",
      "phosphorus, corrosion, iron, ofreduced, reduced, srb, couldcatalyze, sulfides, phasesof, audience\n",
      "\n",
      "Cluster: 49 (9 docs)\n",
      "cmes, solar, cme, coronal, coronagraph, shock, ejections, neutrinos, flares, sep\n",
      "\n"
     ]
    }
   ],
   "source": [
    "print_clusters(matrix_sample, km.labels_)\n"
   ]
  },
  {
   "cell_type": "code",
   "execution_count": 59,
   "metadata": {},
   "outputs": [
    {
     "data": {
      "image/png": "[encoded data removed]",
      "text/plain": [
       "<Figure size 432x288 with 1 Axes>"
      ]
     },
     "metadata": {
      "needs_background": "light"
     },
     "output_type": "display_data"
    }
   ],
   "source": [
    "from scipy.cluster.hierarchy import dendrogram, linkage, fcluster\n",
    "\n",
    "Z = linkage(matrix_sample.todense(), metric='cosine', method='complete')\n",
    "_ = dendrogram(Z, no_labels=True) # Plot dentrogram chart\n"
   ]
  },
  {
   "cell_type": "code",
   "execution_count": 60,
   "metadata": {},
   "outputs": [
    {
     "data": {
      "image/png": "[encoded data removed]",
      "text/plain": [
       "<Figure size 432x288 with 1 Axes>"
      ]
     },
     "metadata": {
      "needs_background": "light"
     },
     "output_type": "display_data"
    }
   ],
   "source": [
    "Z_ = linkage(matrix_sample.todense()[:25], metric='cosine', method='complete')\n",
    "_ = dendrogram(Z_, no_labels=True) # Plot dentrogram chart\n"
   ]
  },
  {
   "cell_type": "code",
   "execution_count": 61,
   "metadata": {},
   "outputs": [
    {
     "name": "stdout",
     "output_type": "stream",
     "text": [
      "Cluster: 1 (2 docs)\n",
      "coral, decadal, ramsay, onoctober, algebraists, researcherswith, tenth, theholocene, seminar, solomon\n",
      "\n",
      "Cluster: 2 (6 docs)\n",
      "wavelet, jet, harmonic, jets, transverse, isotropic, subgrid, piv, frame, controlmethodologies\n",
      "\n",
      "Cluster: 3 (7 docs)\n",
      "bubble, gravitational, plume, envelope, radiation, ligo, inspiral, wave, binaries, star\n",
      "\n",
      "Cluster: 4 (4 docs)\n",
      "straightening, heat, repair, cores, damaged, effectofheat, definethelimiting, basedonexperience, applicationisprimarily, applicationforother\n",
      "\n",
      "Cluster: 5 (13 docs)\n",
      "helium, droplets, superfluid, liquid, 3he, multipole, molecules, atomic, areproposed, turbulence\n",
      "\n",
      "Cluster: 6 (16 docs)\n",
      "workshop, forensic, kdi, pbo, gaim, workshops, awards, lawyers, quebec, npp\n",
      "\n",
      "Cluster: 7 (9 docs)\n",
      "speckle, brain, tumors, ligand, mri, imaging, fmri, neuropeptides, synaptic, pk\n",
      "\n",
      "Cluster: 8 (35 docs)\n",
      "uml, polymer, biology, museum, figurines, yeara, umebproject, progressmonitored, ofbroadening, breaksand\n",
      "\n",
      "Cluster: 9 (15 docs)\n",
      "accessibility, cognition, database, macroeconomics, meetings, multimedia, elderly, ssp, pri, expeditions\n",
      "\n",
      "Cluster: 10 (41 docs)\n",
      "control, sparse, customer, linear, matrices, printing, dense, locomotion, nonlinear, algebra\n",
      "\n",
      "Cluster: 11 (51 docs)\n",
      "composite, parallel, amorphous, grid, ultrabroadband, processing, optical, cad, fiber, diamond\n",
      "\n",
      "Cluster: 12 (18 docs)\n",
      "clay, mineralogy, subduction, shear, dye, friction, deformation, shales, grain, alloys\n",
      "\n",
      "Cluster: 13 (20 docs)\n",
      "films, micro, friction, lubrication, metrology, slip, deposition, lsp, cell, fluid\n",
      "\n",
      "Cluster: 14 (46 docs)\n",
      "magnetic, quantum, superconductors, spin, superconducting, photon, photodissociation, dots, polarized, condensed\n",
      "\n",
      "Cluster: 15 (5 docs)\n",
      "particles, particle, thisapproach, macromolecules, shinbrot, problemthrough, cellularautomata, sheared, separation, flowing\n",
      "\n",
      "Cluster: 16 (7 docs)\n",
      "sediment, floodplain, clinoform, strickland, immiscible, fly, trapping, thestrickland, diffusivity, floodplains\n",
      "\n",
      "Cluster: 17 (6 docs)\n",
      "fuel, xenon, chamber, module, pemfc, ice, fc, logger, amanda, aliquid\n",
      "\n",
      "Cluster: 18 (18 docs)\n",
      "bone, muscle, seismic, cardiac, earthquake, walls, ultrasound, stimulation, damage, stretch\n",
      "\n",
      "Cluster: 19 (12 docs)\n",
      "cmes, solar, wind, cme, coronal, lake, coronagraph, mesoscale, shock, tunnels\n",
      "\n",
      "Cluster: 20 (11 docs)\n",
      "terrorist, attacks, attitudes, wtc, trust, public, polling, september, immigration, polls\n",
      "\n",
      "Cluster: 21 (11 docs)\n",
      "adolescents, tourism, chinese, networks, texts, friendship, newspaper, tourist, beirut, organizational\n",
      "\n",
      "Cluster: 22 (85 docs)\n",
      "algebras, manifolds, conformal, algebraic, lie, curvature, spaces, ergodic, quantum, symmetries\n",
      "\n",
      "Cluster: 23 (16 docs)\n",
      "stark, conjectures, automorphic, forms, arithmetic, howe, infection, virus, screening, perfect\n",
      "\n",
      "Cluster: 24 (42 docs)\n",
      "equations, schrodinger, dynamical, regularity, ampere, singularities, monge, waves, cauchy, pde\n",
      "\n",
      "Cluster: 25 (15 docs)\n",
      "regression, minkowski, sets, estimators, tangent, theory, censored, curves, analogy, norm\n",
      "\n",
      "Cluster: 26 (9 docs)\n",
      "quantum, classification, he, redundant, perceptrons, image, approximation, tcs, dm, theclassification\n",
      "\n",
      "Cluster: 27 (13 docs)\n",
      "script, cyclogenesis, kona, lows, nova, tiwanaku, tropical, valley, peoples, car\n",
      "\n",
      "Cluster: 28 (1 docs)\n",
      "anthracis, bacillus, outbreak, thenbe, quest, anthrax, sequence, strains, genomic, florida\n",
      "\n",
      "Cluster: 29 (8 docs)\n",
      "sensor, rehabilitation, vr, ankle, emergencies, diagnostic, rc, assets, retrofit, integrity\n",
      "\n",
      "Cluster: 30 (5 docs)\n",
      "chile, universidad, visit, carlos, brazil, inpe, rankin, estadual, dunn, thisplanning\n",
      "\n",
      "Cluster: 31 (5 docs)\n",
      "voting, circuits, asu, telecommunication, universityrequests, advancement, grad, ballot, uthe, resultshave\n",
      "\n",
      "Cluster: 32 (9 docs)\n",
      "asymmetric, catalytic, ions, heteroatom, bonds, carbon, membered, aromaticity, phthalocyanines, phosphorus\n",
      "\n",
      "Cluster: 33 (13 docs)\n",
      "instrument, isotope, canopy, microscope, stable, ecosystems, japan, ecosystemecology, fatty, macromolecules\n",
      "\n",
      "Cluster: 34 (13 docs)\n",
      "conference, speakers, mg2, nanotechnology, clinicians, lasers, theconference, japan, panel, lecture\n",
      "\n",
      "Cluster: 35 (13 docs)\n",
      "oceanographic, vessel, ship, ships, equipment, operated, nationaloceanographic, researchfleet, vessels, profiler\n",
      "\n",
      "Cluster: 36 (6 docs)\n",
      "collider, neutrinos, detector, babar, quark, fermilab, rsvp, cp, accident, neutrino\n",
      "\n",
      "Cluster: 37 (17 docs)\n",
      "climate, madagascar, aerosol, ices, lemurs, indoex, pacific, bison, globec, global\n",
      "\n",
      "Cluster: 38 (4 docs)\n",
      "laminar, table, centrifuge, box, nied, 1g, shaking, rpi, pile, ucsd\n",
      "\n",
      "Cluster: 39 (5 docs)\n",
      "resistivity, 3d, sinkholes, cave, cheat, magma, cheating, 2d, ridge, void\n",
      "\n",
      "Cluster: 40 (18 docs)\n",
      "crcd, curriculumdevelopment, dame, notre, underthe, pittsburgh, entitled, communications, mexico, ut\n",
      "\n",
      "Cluster: 41 (5 docs)\n",
      "czech, branes, string, homotopy, phenomenology, cytokinins, cosmology, spain, vanadium, gt\n",
      "\n",
      "Cluster: 42 (12 docs)\n",
      "assistive, disabilities, designprojects, bio, curriculum, needs, wyoming, xp, smart, tcu\n",
      "\n",
      "Cluster: 43 (3 docs)\n",
      "abstract, required, no, soap, morgan, baldwin, universe, hrushovski, thetechnique, universes\n",
      "\n",
      "Cluster: 44 (39 docs)\n",
      "algebraic, algebra, varieties, commutative, curves, geometry, spaces, hilbert, ideals, galois\n",
      "\n",
      "Cluster: 45 (94 docs)\n",
      "fellowship, mathematical, sciences, postdoctoral, training, twenty, dr, biology, microbial, he\n",
      "\n",
      "Cluster: 46 (44 docs)\n",
      "available, not, unit, prosthesis, asensor, nrl, implantable, implantation, darpa, retinal\n",
      "\n",
      "Cluster: 47 (7 docs)\n",
      "arc, gulf, mantle, thesubduction, wedge, rifts, basement, beingcarried, tectonically, khz\n",
      "\n",
      "Cluster: 48 (13 docs)\n",
      "magnetosphere, magnetic, particle, ionosphere, auroral, relativistic, ring, ions, ringcurrent, mhd\n",
      "\n",
      "Cluster: 49 (6 docs)\n",
      "china, qing, modernity, political, men, government, governmentthis, democratic, kennedy, executives\n",
      "\n",
      "Cluster: 50 (8 docs)\n",
      "indigenous, town, women, magazine, lactation, janice, aspray, pilot, divisions, cs\n",
      "\n",
      "Cluster: 51 (17 docs)\n",
      "sdp, resultants, nlp, matrix, polynomial, ip, polynomials, linear, var, problemswhile\n",
      "\n",
      "Cluster: 52 (2 docs)\n",
      "plasma, pulse, laser, sra, semiconductor, fs, amplification, tuning, discharge, clean\n",
      "\n",
      "Cluster: 53 (9 docs)\n",
      "iron, arsenic, corrosion, phosphorus, mobilization, sediments, ofreduced, timescales, perfluorinated, reduced\n",
      "\n",
      "Cluster: 54 (11 docs)\n",
      "symposium, children, library, 28th, wise, melbourne, representation, seminar, meeting, vancouver\n",
      "\n",
      "Cluster: 55 (68 docs)\n",
      "teachers, college, colleges, mathematics, teacher, alliance, teaching, manufacturing, curriculum, technical\n",
      "\n",
      "Cluster: 56 (11 docs)\n",
      "fellowships, mathematical, sciences, nigms, rna, genes, ribozymes, antisense, rnas, nigmsinitiative\n",
      "\n",
      "Cluster: 57 (1 docs)\n",
      "contract, zygotic, zygomycota, zygomycetes, zygmundoperators, zygmund, zworski, zurich, zuni, zro2\n",
      "\n"
     ]
    }
   ],
   "source": [
    "clusters = fcluster(Z, 0.99, criterion='distance') # Create flat clusters by distance threshold\n",
    "\n",
    "print_clusters(matrix_sample, clusters)\n"
   ]
  },
  {
   "cell_type": "code",
   "execution_count": null,
   "metadata": {},
   "outputs": [],
   "source": []
  },
  {
   "cell_type": "code",
   "execution_count": null,
   "metadata": {},
   "outputs": [],
   "source": []
  }
 ],
 "metadata": {
  "kernelspec": {
   "display_name": "Python 3",
   "language": "python",
   "name": "python3"
  },
  "language_info": {
   "codemirror_mode": {
    "name": "ipython",
    "version": 3
   },
   "file_extension": ".py",
   "mimetype": "text/x-python",
   "name": "python",
   "nbconvert_exporter": "python",
   "pygments_lexer": "ipython3",
   "version": "3.8.3"
  }
 },
 "nbformat": 4,
 "nbformat_minor": 4
}
